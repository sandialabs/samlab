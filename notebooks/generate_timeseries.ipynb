{
 "cells": [
  {
   "cell_type": "code",
   "execution_count": 1,
   "metadata": {},
   "outputs": [],
   "source": [
    "import logging\n",
    "import threading\n",
    "import time\n",
    "\n",
    "import numpy\n",
    "\n",
    "import samlab.interactive\n",
    "import samlab.timeseries\n",
    "\n",
    "logging.basicConfig(level=logging.DEBUG)"
   ]
  },
  {
   "cell_type": "code",
   "execution_count": 2,
   "metadata": {},
   "outputs": [],
   "source": [
    "stop = samlab.interactive.Stop()\n",
    "\n",
    "def random_walk(key, count, mean, variance, period, writer):\n",
    "    for i in range(count):\n",
    "        if stop.triggered:\n",
    "            break\n",
    "        writer.add_scalar(key, i, numpy.random.normal(mean, variance))\n",
    "        time.sleep(period)\n",
    "\n",
    "with samlab.timeseries.Writer(experiment=\"Experiment 3\") as writer:\n",
    "    stop = samlab.interactive.Stop()\n",
    "    \n",
    "    threads = []\n",
    "    threads.append(threading.Thread(target=random_walk, args=(\"foo/reward\", 60, 0, 0.1, 0.5, writer)))\n",
    "    threads.append(threading.Thread(target=random_walk, args=(\"bar/reward\", 60, 0, 0.1, 0.5, writer)))\n",
    "\n",
    "    for thread in threads:\n",
    "        thread.start()\n",
    "        \n",
    "    for thread in threads:\n",
    "        thread.join()"
   ]
  },
  {
   "cell_type": "code",
   "execution_count": 3,
   "metadata": {},
   "outputs": [],
   "source": [
    "import samlab.database\n",
    "db, fs = samlab.database.connect()"
   ]
  }
 ],
 "metadata": {
  "kernelspec": {
   "display_name": "Python 3",
   "language": "python",
   "name": "python3"
  },
  "language_info": {
   "codemirror_mode": {
    "name": "ipython",
    "version": 3
   },
   "file_extension": ".py",
   "mimetype": "text/x-python",
   "name": "python",
   "nbconvert_exporter": "python",
   "pygments_lexer": "ipython3",
   "version": "3.6.8"
  }
 },
 "nbformat": 4,
 "nbformat_minor": 2
}
