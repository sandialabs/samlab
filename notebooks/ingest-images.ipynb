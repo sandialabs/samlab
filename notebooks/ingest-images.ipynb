{
 "cells": [
  {
   "cell_type": "code",
   "execution_count": 1,
   "metadata": {},
   "outputs": [],
   "source": [
    "import glob\n",
    "import logging\n",
    "\n",
    "import samlab.database\n",
    "import samlab.observation\n",
    "import samlab.serialize"
   ]
  },
  {
   "cell_type": "code",
   "execution_count": 2,
   "metadata": {},
   "outputs": [],
   "source": [
    "db, fs = samlab.database.connect()"
   ]
  },
  {
   "cell_type": "code",
   "execution_count": 3,
   "metadata": {},
   "outputs": [],
   "source": [
    "with samlab.observation.create_many(db, fs) as observations:\n",
    "    for path in glob.glob(\"/Volumes/Data1/Pictures/2004-03-14/*\"):\n",
    "        content = {\"image\": samlab.serialize.image(path)}\n",
    "        tags = [\"testing\", \"ingestion\"]\n",
    "        observations.create(content=content, tags=tags)\n"
   ]
  }
 ],
 "metadata": {
  "kernelspec": {
   "display_name": "Python 3",
   "language": "python",
   "name": "python3"
  },
  "language_info": {
   "codemirror_mode": {
    "name": "ipython",
    "version": 3
   },
   "file_extension": ".py",
   "mimetype": "text/x-python",
   "name": "python",
   "nbconvert_exporter": "python",
   "pygments_lexer": "ipython3",
   "version": "3.7.3"
  }
 },
 "nbformat": 4,
 "nbformat_minor": 2
}
