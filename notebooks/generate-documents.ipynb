{
 "cells": [
  {
   "cell_type": "code",
   "execution_count": null,
   "metadata": {},
   "outputs": [],
   "source": [
    "import itertools\n",
    "import os\n",
    "import time\n",
    "\n",
    "import arrow\n",
    "\n",
    "for index in itertools.count():\n",
    "    timestamp = arrow.utcnow()\n",
    "    path = os.path.expanduser(f\"~/.samlab/documents/{timestamp.format('YYYY-MM-DDTHHmmss')}.html\")\n",
    "    document = f\"\"\"<span class=\"h5\">Document {index}</span><p class=\"lead\">{timestamp.isoformat()}</p>\"\"\"\n",
    "    print(path)\n",
    "    with open(path, \"w\") as stream:\n",
    "        stream.write(document)\n",
    "    time.sleep(30)"
   ]
  },
  {
   "cell_type": "code",
   "execution_count": null,
   "metadata": {},
   "outputs": [],
   "source": []
  }
 ],
 "metadata": {
  "kernelspec": {
   "display_name": "Python 3 (ipykernel)",
   "language": "python",
   "name": "python3"
  },
  "language_info": {
   "codemirror_mode": {
    "name": "ipython",
    "version": 3
   },
   "file_extension": ".py",
   "mimetype": "text/x-python",
   "name": "python",
   "nbconvert_exporter": "python",
   "pygments_lexer": "ipython3",
   "version": "3.8.2"
  }
 },
 "nbformat": 4,
 "nbformat_minor": 2
}
