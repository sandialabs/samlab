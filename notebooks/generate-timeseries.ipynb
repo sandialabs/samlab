{
 "cells": [
  {
   "cell_type": "code",
   "execution_count": 1,
   "metadata": {},
   "outputs": [],
   "source": [
    "import os\n",
    "import time\n",
    "import threading\n",
    "\n",
    "import numpy\n",
    "\n",
    "import samlab.dashboard"
   ]
  },
  {
   "cell_type": "code",
   "execution_count": 2,
   "metadata": {},
   "outputs": [
    {
     "data": {
      "text/plain": [
       "samlab.dashboard.Writer(root='/Users/tshead/.samlab/timeseries')"
      ]
     },
     "execution_count": 2,
     "metadata": {},
     "output_type": "execute_result"
    }
   ],
   "source": [
    "writer = samlab.dashboard.Writer(os.path.expanduser(f\"~/.samlab/timeseries\"))\n",
    "writer"
   ]
  },
  {
   "cell_type": "code",
   "execution_count": 3,
   "metadata": {},
   "outputs": [],
   "source": [
    "def random_walk(key, start=0, mean=0, std=1, interval=5):\n",
    "    value = start\n",
    "    while True:\n",
    "        time.sleep(interval)\n",
    "        writer.add_scalar(key, value)\n",
    "        value += numpy.random.normal(loc=mean, scale=std)"
   ]
  },
  {
   "cell_type": "code",
   "execution_count": 4,
   "metadata": {},
   "outputs": [],
   "source": [
    "threading.Thread(target=random_walk, kwargs=dict(key=\"test\")).start()\n",
    "threading.Thread(target=random_walk, kwargs=dict(key=\"foo/bar\", std=0.1)).start()\n",
    "threading.Thread(target=random_walk, kwargs=dict(key=\"foo/baz\", std=0.2)).start()"
   ]
  },
  {
   "cell_type": "code",
   "execution_count": 5,
   "metadata": {},
   "outputs": [],
   "source": [
    "threading.Thread(target=random_walk, kwargs=dict(key=\"blah/bleh\", interval=4)).start()"
   ]
  },
  {
   "cell_type": "code",
   "execution_count": 6,
   "metadata": {},
   "outputs": [],
   "source": [
    "threading.Thread(target=random_walk, kwargs=dict(key=\"blah/bloo\", std=0.3, interval=3)).start()"
   ]
  },
  {
   "cell_type": "code",
   "execution_count": null,
   "metadata": {},
   "outputs": [],
   "source": []
  }
 ],
 "metadata": {
  "kernelspec": {
   "display_name": "Python 3 (ipykernel)",
   "language": "python",
   "name": "python3"
  },
  "language_info": {
   "codemirror_mode": {
    "name": "ipython",
    "version": 3
   },
   "file_extension": ".py",
   "mimetype": "text/x-python",
   "name": "python",
   "nbconvert_exporter": "python",
   "pygments_lexer": "ipython3",
   "version": "3.8.2"
  }
 },
 "nbformat": 4,
 "nbformat_minor": 2
}
