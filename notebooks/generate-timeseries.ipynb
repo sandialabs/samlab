{
 "cells": [
  {
   "cell_type": "code",
   "execution_count": 1,
   "metadata": {},
   "outputs": [],
   "source": [
    "import itertools\n",
    "import os\n",
    "import time\n",
    "\n",
    "import arrow\n",
    "import numpy\n",
    "import toyplot"
   ]
  },
  {
   "cell_type": "code",
   "execution_count": 2,
   "metadata": {},
   "outputs": [
    {
     "name": "stdout",
     "output_type": "stream",
     "text": [
      "0\n",
      "-1.0145702257685907\n",
      "-0.3136446316838578\n",
      "-0.33380699319195056\n",
      "-0.759336555369752\n",
      "-3.6190323425364266\n",
      "-3.4752426268383787\n",
      "-4.529570243975053\n",
      "-4.684695417540393\n",
      "-4.065830850250108\n",
      "-4.921103569263401\n",
      "-3.158857627883574\n",
      "-4.164430780711248\n",
      "-3.474398379945682\n",
      "-3.053454713152773\n",
      "-2.339759334665428\n",
      "-1.5101477681007678\n",
      "0.20310830432056193\n",
      "-1.3062917996466545\n",
      "-0.02281672349090047\n",
      "2.334695855136606\n",
      "0.9178782308977098\n",
      "0.05992373535189188\n",
      "-0.42711503174788773\n",
      "-0.639557628363687\n",
      "-1.6234930660570135\n",
      "-0.11208783044610704\n",
      "0.5567537411469771\n",
      "1.1005213562135219\n",
      "1.8805512210279698\n",
      "3.292646571191745\n",
      "3.3469325320492356\n",
      "3.8685039229527987\n",
      "3.7998319814820283\n",
      "4.3030327228950895\n",
      "4.36536192473773\n",
      "3.432701239155195\n",
      "3.813293469591649\n",
      "4.086420290918161\n",
      "3.8862069061475717\n",
      "2.7316657461370095\n",
      "1.9475999883473532\n",
      "2.454762317938627\n",
      "1.9760997856783076\n",
      "2.769220165387697\n",
      "4.781068286469951\n",
      "6.001447105816776\n",
      "6.031710616346672\n",
      "5.42365773287995\n",
      "5.171641764703171\n",
      "4.408681910010503\n",
      "7.119594324872796\n",
      "7.237685683892877\n",
      "8.455154982062618\n",
      "8.860095240376037\n",
      "9.823149386244463\n",
      "9.54146610217143\n",
      "7.9973520278502495\n",
      "8.779540759179714\n",
      "8.064810887589273\n",
      "7.970725064515213\n",
      "7.018016957545679\n",
      "6.877118764803927\n",
      "6.521327199576408\n",
      "7.38510958253486\n",
      "7.494215265955643\n",
      "7.054612765240402\n",
      "7.041390540810538\n",
      "8.903736808179493\n",
      "8.822229998291967\n",
      "10.54324675957491\n",
      "10.23783935821345\n",
      "9.645224279748346\n",
      "9.331742787073475\n",
      "9.313782136925594\n"
     ]
    },
    {
     "ename": "KeyboardInterrupt",
     "evalue": "",
     "output_type": "error",
     "traceback": [
      "\u001b[0;31m---------------------------------------------------------------------------\u001b[0m",
      "\u001b[0;31mKeyboardInterrupt\u001b[0m                         Traceback (most recent call last)",
      "\u001b[0;32m/var/folders/yw/yx17h14s5xs8kpsy1dtf8lhm0000gn/T/ipykernel_56588/1885060504.py\u001b[0m in \u001b[0;36m<module>\u001b[0;34m\u001b[0m\n\u001b[1;32m      7\u001b[0m     \u001b[0mprint\u001b[0m\u001b[0;34m(\u001b[0m\u001b[0mvalue\u001b[0m\u001b[0;34m)\u001b[0m\u001b[0;34m\u001b[0m\u001b[0;34m\u001b[0m\u001b[0m\n\u001b[1;32m      8\u001b[0m     \u001b[0mvalue\u001b[0m \u001b[0;34m+=\u001b[0m \u001b[0mnumpy\u001b[0m\u001b[0;34m.\u001b[0m\u001b[0mrandom\u001b[0m\u001b[0;34m.\u001b[0m\u001b[0mnormal\u001b[0m\u001b[0;34m(\u001b[0m\u001b[0;34m)\u001b[0m\u001b[0;34m\u001b[0m\u001b[0;34m\u001b[0m\u001b[0m\n\u001b[0;32m----> 9\u001b[0;31m     \u001b[0mtime\u001b[0m\u001b[0;34m.\u001b[0m\u001b[0msleep\u001b[0m\u001b[0;34m(\u001b[0m\u001b[0;36m2\u001b[0m\u001b[0;34m)\u001b[0m\u001b[0;34m\u001b[0m\u001b[0;34m\u001b[0m\u001b[0m\n\u001b[0m",
      "\u001b[0;31mKeyboardInterrupt\u001b[0m: "
     ]
    }
   ],
   "source": [
    "value = 0\n",
    "for index in itertools.count():\n",
    "    timestamp = arrow.utcnow()\n",
    "    path = os.path.expanduser(f\"~/.samlab/timeseries/test.csv\")\n",
    "    with open(path, \"a\") as stream:\n",
    "        stream.write(f\"{value}\\n\")\n",
    "    print(value)\n",
    "    value += numpy.random.normal()\n",
    "    time.sleep(2)"
   ]
  },
  {
   "cell_type": "code",
   "execution_count": null,
   "metadata": {},
   "outputs": [],
   "source": [
    "timeseries = numpy.loadtxt(os.path.expanduser(f\"~/.samlab/timeseries/test.csv\"))\n",
    "timeseries"
   ]
  },
  {
   "cell_type": "code",
   "execution_count": null,
   "metadata": {},
   "outputs": [],
   "source": [
    "toyplot.plot(timeseries)"
   ]
  },
  {
   "cell_type": "code",
   "execution_count": null,
   "metadata": {},
   "outputs": [],
   "source": []
  }
 ],
 "metadata": {
  "kernelspec": {
   "display_name": "Python 3 (ipykernel)",
   "language": "python",
   "name": "python3"
  },
  "language_info": {
   "codemirror_mode": {
    "name": "ipython",
    "version": 3
   },
   "file_extension": ".py",
   "mimetype": "text/x-python",
   "name": "python",
   "nbconvert_exporter": "python",
   "pygments_lexer": "ipython3",
   "version": "3.8.2"
  }
 },
 "nbformat": 4,
 "nbformat_minor": 2
}
