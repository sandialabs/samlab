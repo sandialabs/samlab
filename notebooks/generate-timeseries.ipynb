{
 "cells": [
  {
   "cell_type": "code",
   "execution_count": 1,
   "metadata": {},
   "outputs": [],
   "source": [
    "import itertools\n",
    "import os\n",
    "import time\n",
    "import threading\n",
    "\n",
    "import arrow\n",
    "import numpy\n",
    "import toyplot"
   ]
  },
  {
   "cell_type": "code",
   "execution_count": 2,
   "metadata": {},
   "outputs": [],
   "source": [
    "def random_walk(path, start=0, mean=0, std=1, interval=5):\n",
    "    path = os.path.expanduser(f\"~/.samlab/timeseries/{path}.csv\")\n",
    "    os.makedirs(os.path.dirname(path), exist_ok=True)\n",
    "    with open(path, \"w\") as stream:\n",
    "        stream.write(\"index,timestamp,value\\n\")\n",
    "    value = start\n",
    "    for index in itertools.count():\n",
    "        timestamp = arrow.utcnow()\n",
    "        with open(path, \"a\") as stream:\n",
    "            stream.write(f\"{index},{timestamp.timestamp},{value}\\n\")\n",
    "        value += numpy.random.normal(loc=mean, scale=std)\n",
    "        time.sleep(interval)"
   ]
  },
  {
   "cell_type": "code",
   "execution_count": 3,
   "metadata": {},
   "outputs": [],
   "source": [
    "threading.Thread(target=random_walk, kwargs=dict(path=\"test\")).start()\n",
    "threading.Thread(target=random_walk, kwargs=dict(path=\"foo/bar\", std=0.1)).start()\n",
    "threading.Thread(target=random_walk, kwargs=dict(path=\"foo/baz\", std=0.2)).start()"
   ]
  }
 ],
 "metadata": {
  "kernelspec": {
   "display_name": "Python 3 (ipykernel)",
   "language": "python",
   "name": "python3"
  },
  "language_info": {
   "codemirror_mode": {
    "name": "ipython",
    "version": 3
   },
   "file_extension": ".py",
   "mimetype": "text/x-python",
   "name": "python",
   "nbconvert_exporter": "python",
   "pygments_lexer": "ipython3",
   "version": "3.8.2"
  }
 },
 "nbformat": 4,
 "nbformat_minor": 2
}
