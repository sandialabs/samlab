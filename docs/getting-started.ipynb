{
 "cells": [
  {
   "cell_type": "markdown",
   "metadata": {},
   "source": [
    ".. _getting-started:\n",
    "\n",
    "# Getting Started\n",
    "\n",
    "Let's explore how to integrate Samlab into your workflow.  For this example, we will be training a simple neural network model to smooth waveforms.  That is, if we feed our trained model the noisy green curve in the following plot as input, we want the model to produce a smoothed version of it (the smooth orange curve) as output:"
   ]
  },
  {
   "cell_type": "code",
   "execution_count": 1,
   "metadata": {
    "nbsphinx": "hidden"
   },
   "outputs": [],
   "source": [
    "import numpy\n",
    "numpy.random.seed(1234)\n",
    "\n",
    "import toyplot\n",
    "\n",
    "kernel = numpy.ones(9)\n",
    "kernel /= numpy.sum(kernel)\n",
    "\n",
    "input_features = numpy.cumsum(numpy.random.normal(size=(100,)))\n",
    "output_features = numpy.convolve(input_features, kernel, mode=\"same\")\n",
    "example = numpy.column_stack((input_features, output_features))"
   ]
  },
  {
   "cell_type": "code",
   "execution_count": 2,
   "metadata": {},
   "outputs": [
    {
     "data": {
      "text/html": [
       "<div class=\"toyplot\" id=\"t22f8eb0488364fbb8283495ff27a0da7\" style=\"text-align:center\"><svg class=\"toyplot-canvas-Canvas\" height=\"250.0px\" id=\"tc866e005e01840ff9611f45357c9f0ea\" preserveAspectRatio=\"xMidYMid meet\" style=\"background-color:transparent;border-color:#292724;border-style:none;border-width:1.0;fill:rgb(16.1%,15.3%,14.1%);fill-opacity:1.0;font-family:Helvetica;font-size:12px;opacity:1.0;stroke:rgb(16.1%,15.3%,14.1%);stroke-opacity:1.0;stroke-width:1.0\" viewBox=\"0 0 600.0 250.0\" width=\"600.0px\" xmlns=\"http://www.w3.org/2000/svg\" xmlns:toyplot=\"http://www.sandia.gov/toyplot\" xmlns:xlink=\"http://www.w3.org/1999/xlink\"><g class=\"toyplot-coordinates-Cartesian\" id=\"t167a7bf6272d4a25bf95f1305c691110\"><clipPath id=\"t8fc497c34f5448d1ab47f7cf7ba49179\"><rect height=\"170.0\" width=\"520.0\" x=\"40.0\" y=\"40.0\"></rect></clipPath><g clip-path=\"url(#t8fc497c34f5448d1ab47f7cf7ba49179)\"><g class=\"toyplot-mark-Plot\" id=\"tad1d513705a546a09c61ae2c5f879e9b\" style=\"fill:none\"><g class=\"toyplot-Series\"><path d=\"M 50.0 154.71606163984544 L 55.0 176.53822826552323 L 60.0 150.28683595774845 L 65.0 156.01553537846084 L 70.0 169.21883371441308 L 75.0 152.96340751758098 L 80.0 137.21322749542128 L 85.0 148.87620436077137 L 90.0 148.58860080242664 L 95.0 189.68116463614672 L 100.0 168.6091382951697 L 105.0 150.4337788151634 L 110.0 132.96608567548444 L 115.0 170.00140022917083 L 120.00000000000001 176.12267707380758 L 125.0 176.0838624218357 L 130.0 168.6547671467932 L 135.0 163.35775518068266 L 140.0 139.1502635117343 L 145.0 167.4941087193183 L 150.0 171.2071835383885 L 155.0 183.226465201953 L 160.0 179.6824184803745 L 165.0 169.5417949683151 L 170.0 145.38939372195318 L 175.0 153.98844252427773 L 180.0 141.61031098412795 L 185.0 174.90357723488654 L 190.00000000000003 178.25866255873575 L 195.0 158.8552421821915 L 200.0 166.1448416163073 L 205.0 159.9619944468218 L 210.0 140.76728352806617 L 215.0 121.60262803095863 L 220.0 105.77679485871143 L 225.0 108.01387047810432 L 230.0 105.72876351109673 L 235.0 111.64331077280525 L 240.0 96.22136227019686 L 245.0 52.41195541516402 L 250.0 51.01575555148673 L 255.0 61.39470579705825 L 260.0 60.73247955012472 L 265.0 98.75215295577482 L 270.0 94.21187333840717 L 275.0 110.65041606133464 L 280.0 113.15689848430017 L 285.0 112.82178687551968 L 290.0 98.98038787088095 L 295.0 95.03603630764758 L 300.0 79.62628937643362 L 305.0 106.1177690519455 L 310.0 131.80603010516552 L 315.0 133.65514741682608 L 320.0 143.7005565134189 L 325.0 146.35040992603462 L 330.00000000000006 139.8637194650394 L 335.0 140.5144222110702 L 340.0 130.14843771927968 L 345.0 101.82743660153805 L 350.0 119.67830266266256 L 355.0 120.96722705990385 L 360.0 115.32433467854428 L 365.0 119.14464332965039 L 370.0 100.20238284201372 L 375.0 144.1857314586926 L 380.0 106.97911946685807 L 385.0 127.91547483632121 L 390.0 124.03314995595031 L 394.99999999999994 111.12060190249069 L 400.0 125.51207785028107 L 405.0 117.04578872264923 L 410.0 104.14226285990809 L 415.0 94.55006198122905 L 420.0 111.52175675002213 L 425.0 74.73218696718186 L 430.0 70.57356775395371 L 435.0 91.69366219121184 L 440.0 80.1139458025836 L 445.0 79.38995753255989 L 450.0 70.88092855573908 L 455.00000000000006 136.17500188332124 L 460.0 111.96847357292195 L 465.0 109.17183434914882 L 470.0 106.1571707278208 L 475.0 114.03778481004689 L 480.0 99.97733967304339 L 485.0 81.9307204190784 L 490.0 76.96821358743219 L 495.0 51.462945269158716 L 500.0 50.0 L 505.0 57.32852380037872 L 510.0 76.16175965695162 L 515.0 86.87551166038445 L 520.0 71.91311670148856 L 525.0 73.41462695681355 L 530.0 79.7317511797306 L 535.0 70.05196343570665 L 540.0 89.6389721864046 L 545.0 99.01813858751959\" style=\"stroke:rgb(40%,76.1%,64.7%);stroke-opacity:1.0;stroke-width:2.0\"></path></g><g class=\"toyplot-Series\"><path d=\"M 50.0 162.24355991540665 L 55.0 161.08903452061932 L 60.0 158.18448912336976 L 65.0 156.57583004449242 L 70.0 154.93521501468794 L 75.0 158.8202264587214 L 80.0 157.93921646201542 L 85.0 157.95554344617267 L 90.0 155.3944934791753 L 95.0 155.48144531414837 L 100.0 158.05469748706244 L 105.0 162.3736569233307 L 110.0 164.57127501066645 L 115.0 166.21229216380604 L 120.00000000000001 160.5977475944269 L 125.0 160.47385541933227 L 130.0 162.7820114996906 L 135.0 168.3664981137427 L 140.0 169.44216680832085 L 145.0 168.71095768548835 L 150.0 165.30046116327918 L 155.0 163.67086953855528 L 160.0 161.25448685004915 L 165.0 165.22707726373275 L 170.0 166.42313880144582 L 175.0 165.0507008729795 L 180.0 163.1527426967966 L 185.0 160.96158447084633 L 190.00000000000003 157.76441653304087 L 195.0 155.12144256737486 L 200.0 149.76459282675634 L 205.0 146.03165499275372 L 210.0 138.34556457899927 L 215.0 130.94385882500703 L 220.0 123.9845388347854 L 225.0 111.3475514791028 L 230.0 99.24241382406558 L 235.0 90.42323852062026 L 240.0 83.65988868941649 L 245.0 82.87937292242353 L 250.0 81.34581768467939 L 255.0 81.89266796803915 L 260.0 82.0608443804275 L 265.0 83.90533600324113 L 270.0 89.07960627609859 L 275.0 93.97074858233867 L 280.0 95.99648009115816 L 285.0 101.0392900358049 L 290.0 104.71194305240388 L 295.0 109.0945290611171 L 300.0 112.76676688912644 L 305.0 116.45493482709693 L 310.0 119.45959400371024 L 315.0 124.07448670817573 L 320.0 127.97586464280151 L 325.0 130.44265877892423 L 330.00000000000006 131.94938473567055 L 335.0 130.74507328619706 L 340.0 128.70831631527685 L 345.0 125.97988151708034 L 350.0 120.85232295218913 L 355.0 121.3325465070395 L 360.0 117.60640175768258 L 365.0 117.35829477068718 L 370.0 119.82559625451078 L 375.0 118.87474061449169 L 380.0 119.3797240356447 L 385.0 119.57099670721192 L 390.0 117.90406554390725 L 394.99999999999994 117.27602989270893 L 400.0 113.64669936952332 L 405.0 110.0637068695593 L 410.0 103.69238386040735 L 415.0 100.09910744210308 L 420.0 96.6539234310023 L 425.0 91.52924339569995 L 430.0 86.39981448826546 L 435.0 89.95900771308915 L 440.0 91.89438677883282 L 445.0 91.63328428984687 L 450.0 95.12494915214009 L 455.00000000000006 99.95430660281713 L 460.0 100.87471521190952 L 465.0 101.07657905818671 L 470.0 100.80749639761697 L 475.0 98.64994269910804 L 480.0 89.07494248985013 L 485.0 83.00383695956755 L 490.0 79.33605088265674 L 495.0 77.19364431960825 L 500.0 72.51312564087957 L 505.0 69.56171311685402 L 510.0 69.31738320137096 L 515.0 68.54891096229032 L 520.0 72.79069173087319 L 525.0 78.23715157393094 L 530.0 90.01777515951852 L 535.0 99.70581698326473 L 540.0 108.20344191774059 L 545.0 118.36355518098266\" style=\"stroke:rgb(98.8%,55.3%,38.4%);stroke-opacity:1.0;stroke-width:2.0\"></path></g></g></g><g class=\"toyplot-coordinates-Axis\" id=\"t243bbf0412334a768c57e58b75b992d4\" transform=\"translate(50.0,200.0)translate(0,10.0)\"><line style=\"\" x1=\"0\" x2=\"495.0\" y1=\"0\" y2=\"0\"></line><g><g transform=\"translate(0.0,6)\"><text style=\"fill:rgb(16.1%,15.3%,14.1%);fill-opacity:1.0;font-family:helvetica;font-size:10.0px;font-weight:normal;stroke:none;vertical-align:baseline;white-space:pre\" x=\"-2.78\" y=\"8.555\">0</text></g><g transform=\"translate(250.0,6)\"><text style=\"fill:rgb(16.1%,15.3%,14.1%);fill-opacity:1.0;font-family:helvetica;font-size:10.0px;font-weight:normal;stroke:none;vertical-align:baseline;white-space:pre\" x=\"-5.56\" y=\"8.555\">50</text></g><g transform=\"translate(500.0,6)\"><text style=\"fill:rgb(16.1%,15.3%,14.1%);fill-opacity:1.0;font-family:helvetica;font-size:10.0px;font-weight:normal;stroke:none;vertical-align:baseline;white-space:pre\" x=\"-8.34\" y=\"8.555\">100</text></g></g><g class=\"toyplot-coordinates-Axis-coordinates\" style=\"visibility:hidden\" transform=\"\"><line style=\"stroke:rgb(43.9%,50.2%,56.5%);stroke-opacity:1.0;stroke-width:1.0\" x1=\"0\" x2=\"0\" y1=\"-3.0\" y2=\"4.5\"></line><text style=\"alignment-baseline:alphabetic;fill:rgb(43.9%,50.2%,56.5%);fill-opacity:1.0;font-size:10px;font-weight:normal;stroke:none;text-anchor:middle\" x=\"0\" y=\"-6\"></text></g></g><g class=\"toyplot-coordinates-Axis\" id=\"ta889ee6b7de7485098cfd2953a34f82c\" transform=\"translate(50.0,200.0)rotate(-90.0)translate(0,-10.0)\"><line style=\"\" x1=\"10.318835363853266\" x2=\"150.0\" y1=\"0\" y2=\"0\"></line><g><g transform=\"translate(0.0,-6)\"><text style=\"fill:rgb(16.1%,15.3%,14.1%);fill-opacity:1.0;font-family:helvetica;font-size:10.0px;font-weight:normal;stroke:none;vertical-align:baseline;white-space:pre\" x=\"-4.445\" y=\"-4.440892098500626e-16\">-2</text></g><g transform=\"translate(36.64586392933276,-6)\"><text style=\"fill:rgb(16.1%,15.3%,14.1%);fill-opacity:1.0;font-family:helvetica;font-size:10.0px;font-weight:normal;stroke:none;vertical-align:baseline;white-space:pre\" x=\"-2.78\" y=\"-4.440892098500626e-16\">0</text></g><g transform=\"translate(73.29172785866552,-6)\"><text style=\"fill:rgb(16.1%,15.3%,14.1%);fill-opacity:1.0;font-family:helvetica;font-size:10.0px;font-weight:normal;stroke:none;vertical-align:baseline;white-space:pre\" x=\"-2.78\" y=\"-4.440892098500626e-16\">2</text></g><g transform=\"translate(109.93759178799829,-6)\"><text style=\"fill:rgb(16.1%,15.3%,14.1%);fill-opacity:1.0;font-family:helvetica;font-size:10.0px;font-weight:normal;stroke:none;vertical-align:baseline;white-space:pre\" x=\"-2.78\" y=\"-4.440892098500626e-16\">4</text></g><g transform=\"translate(146.58345571733105,-6)\"><text style=\"fill:rgb(16.1%,15.3%,14.1%);fill-opacity:1.0;font-family:helvetica;font-size:10.0px;font-weight:normal;stroke:none;vertical-align:baseline;white-space:pre\" x=\"-2.78\" y=\"-4.440892098500626e-16\">6</text></g></g><g class=\"toyplot-coordinates-Axis-coordinates\" style=\"visibility:hidden\" transform=\"\"><line style=\"stroke:rgb(43.9%,50.2%,56.5%);stroke-opacity:1.0;stroke-width:1.0\" x1=\"0\" x2=\"0\" y1=\"3.0\" y2=\"-4.5\"></line><text style=\"alignment-baseline:hanging;fill:rgb(43.9%,50.2%,56.5%);fill-opacity:1.0;font-size:10px;font-weight:normal;stroke:none;text-anchor:middle\" x=\"0\" y=\"6\"></text></g></g></g></svg><div class=\"toyplot-behavior\"><script>(function()\n",
       "{\n",
       "var modules={};\n",
       "modules[\"toyplot/tables\"] = (function()\n",
       "    {\n",
       "        var tables = [];\n",
       "\n",
       "        var module = {};\n",
       "\n",
       "        module.set = function(owner, key, names, columns)\n",
       "        {\n",
       "            tables.push({owner: owner, key: key, names: names, columns: columns});\n",
       "        }\n",
       "\n",
       "        module.get = function(owner, key)\n",
       "        {\n",
       "            for(var i = 0; i != tables.length; ++i)\n",
       "            {\n",
       "                var table = tables[i];\n",
       "                if(table.owner != owner)\n",
       "                    continue;\n",
       "                if(table.key != key)\n",
       "                    continue;\n",
       "                return {names: table.names, columns: table.columns};\n",
       "            }\n",
       "        }\n",
       "\n",
       "        module.get_csv = function(owner, key)\n",
       "        {\n",
       "            var table = module.get(owner, key);\n",
       "            if(table != undefined)\n",
       "            {\n",
       "                var csv = \"\";\n",
       "                csv += table.names.join(\",\") + \"\\n\";\n",
       "                for(var i = 0; i != table.columns[0].length; ++i)\n",
       "                {\n",
       "                  for(var j = 0; j != table.columns.length; ++j)\n",
       "                  {\n",
       "                    if(j)\n",
       "                      csv += \",\";\n",
       "                    csv += table.columns[j][i];\n",
       "                  }\n",
       "                  csv += \"\\n\";\n",
       "                }\n",
       "                return csv;\n",
       "            }\n",
       "        }\n",
       "\n",
       "        return module;\n",
       "    })();\n",
       "modules[\"toyplot/root/id\"] = \"t22f8eb0488364fbb8283495ff27a0da7\";\n",
       "modules[\"toyplot/root\"] = (function(root_id)\n",
       "    {\n",
       "        return document.querySelector(\"#\" + root_id);\n",
       "    })(modules[\"toyplot/root/id\"]);\n",
       "modules[\"toyplot/canvas/id\"] = \"tc866e005e01840ff9611f45357c9f0ea\";\n",
       "modules[\"toyplot/canvas\"] = (function(canvas_id)\n",
       "    {\n",
       "        return document.querySelector(\"#\" + canvas_id);\n",
       "    })(modules[\"toyplot/canvas/id\"]);\n",
       "modules[\"toyplot/menus/context\"] = (function(root, canvas)\n",
       "    {\n",
       "        var wrapper = document.createElement(\"div\");\n",
       "        wrapper.innerHTML = \"<ul class='toyplot-context-menu' style='background:#eee; border:1px solid #b8b8b8; border-radius:5px; box-shadow: 0px 0px 8px rgba(0%,0%,0%,0.25); margin:0; padding:3px 0; position:fixed; visibility:hidden;'></ul>\"\n",
       "        var menu = wrapper.firstChild;\n",
       "\n",
       "        root.appendChild(menu);\n",
       "\n",
       "        var items = [];\n",
       "\n",
       "        var ignore_mouseup = null;\n",
       "        function open_menu(e)\n",
       "        {\n",
       "            var show_menu = false;\n",
       "            for(var index=0; index != items.length; ++index)\n",
       "            {\n",
       "                var item = items[index];\n",
       "                if(item.show(e))\n",
       "                {\n",
       "                    item.item.style.display = \"block\";\n",
       "                    show_menu = true;\n",
       "                }\n",
       "                else\n",
       "                {\n",
       "                    item.item.style.display = \"none\";\n",
       "                }\n",
       "            }\n",
       "\n",
       "            if(show_menu)\n",
       "            {\n",
       "                ignore_mouseup = true;\n",
       "                menu.style.left = (e.clientX + 1) + \"px\";\n",
       "                menu.style.top = (e.clientY - 5) + \"px\";\n",
       "                menu.style.visibility = \"visible\";\n",
       "                e.stopPropagation();\n",
       "                e.preventDefault();\n",
       "            }\n",
       "        }\n",
       "\n",
       "        function close_menu()\n",
       "        {\n",
       "            menu.style.visibility = \"hidden\";\n",
       "        }\n",
       "\n",
       "        function contextmenu(e)\n",
       "        {\n",
       "            open_menu(e);\n",
       "        }\n",
       "\n",
       "        function mousemove(e)\n",
       "        {\n",
       "            ignore_mouseup = false;\n",
       "        }\n",
       "\n",
       "        function mouseup(e)\n",
       "        {\n",
       "            if(ignore_mouseup)\n",
       "            {\n",
       "                ignore_mouseup = false;\n",
       "                return;\n",
       "            }\n",
       "            close_menu();\n",
       "        }\n",
       "\n",
       "        function keydown(e)\n",
       "        {\n",
       "            if(e.key == \"Escape\" || e.key == \"Esc\" || e.keyCode == 27)\n",
       "            {\n",
       "                close_menu();\n",
       "            }\n",
       "        }\n",
       "\n",
       "        canvas.addEventListener(\"contextmenu\", contextmenu);\n",
       "        canvas.addEventListener(\"mousemove\", mousemove);\n",
       "        document.addEventListener(\"mouseup\", mouseup);\n",
       "        document.addEventListener(\"keydown\", keydown);\n",
       "\n",
       "        var module = {};\n",
       "        module.add_item = function(label, show, activate)\n",
       "        {\n",
       "            var wrapper = document.createElement(\"div\");\n",
       "            wrapper.innerHTML = \"<li class='toyplot-context-menu-item' style='background:#eee; color:#333; padding:2px 20px; list-style:none; margin:0; text-align:left;'>\" + label + \"</li>\"\n",
       "            var item = wrapper.firstChild;\n",
       "\n",
       "            items.push({item: item, show: show});\n",
       "\n",
       "            function mouseover()\n",
       "            {\n",
       "                this.style.background = \"steelblue\";\n",
       "                this.style.color = \"white\";\n",
       "            }\n",
       "\n",
       "            function mouseout()\n",
       "            {\n",
       "                this.style.background = \"#eee\";\n",
       "                this.style.color = \"#333\";\n",
       "            }\n",
       "\n",
       "            function choose_item(e)\n",
       "            {\n",
       "                close_menu();\n",
       "                activate();\n",
       "\n",
       "                e.stopPropagation();\n",
       "                e.preventDefault();\n",
       "            }\n",
       "\n",
       "            item.addEventListener(\"mouseover\", mouseover);\n",
       "            item.addEventListener(\"mouseout\", mouseout);\n",
       "            item.addEventListener(\"mouseup\", choose_item);\n",
       "            item.addEventListener(\"contextmenu\", choose_item);\n",
       "\n",
       "            menu.appendChild(item);\n",
       "        };\n",
       "        return module;\n",
       "    })(modules[\"toyplot/root\"],modules[\"toyplot/canvas\"]);\n",
       "modules[\"toyplot/io\"] = (function()\n",
       "    {\n",
       "        var module = {};\n",
       "        module.save_file = function(mime_type, charset, data, filename)\n",
       "        {\n",
       "            var uri = \"data:\" + mime_type + \";charset=\" + charset + \",\" + data;\n",
       "            uri = encodeURI(uri);\n",
       "\n",
       "            var link = document.createElement(\"a\");\n",
       "            if(typeof link.download != \"undefined\")\n",
       "            {\n",
       "              link.href = uri;\n",
       "              link.style = \"visibility:hidden\";\n",
       "              link.download = filename;\n",
       "\n",
       "              document.body.appendChild(link);\n",
       "              link.click();\n",
       "              document.body.removeChild(link);\n",
       "            }\n",
       "            else\n",
       "            {\n",
       "              window.open(uri);\n",
       "            }\n",
       "        };\n",
       "        return module;\n",
       "    })();\n",
       "modules[\"toyplot.coordinates.Axis\"] = (\n",
       "        function(canvas)\n",
       "        {\n",
       "            function sign(x)\n",
       "            {\n",
       "                return x < 0 ? -1 : x > 0 ? 1 : 0;\n",
       "            }\n",
       "\n",
       "            function mix(a, b, amount)\n",
       "            {\n",
       "                return ((1.0 - amount) * a) + (amount * b);\n",
       "            }\n",
       "\n",
       "            function log(x, base)\n",
       "            {\n",
       "                return Math.log(Math.abs(x)) / Math.log(base);\n",
       "            }\n",
       "\n",
       "            function in_range(a, x, b)\n",
       "            {\n",
       "                var left = Math.min(a, b);\n",
       "                var right = Math.max(a, b);\n",
       "                return left <= x && x <= right;\n",
       "            }\n",
       "\n",
       "            function inside(range, projection)\n",
       "            {\n",
       "                for(var i = 0; i != projection.length; ++i)\n",
       "                {\n",
       "                    var segment = projection[i];\n",
       "                    if(in_range(segment.range.min, range, segment.range.max))\n",
       "                        return true;\n",
       "                }\n",
       "                return false;\n",
       "            }\n",
       "\n",
       "            function to_domain(range, projection)\n",
       "            {\n",
       "                for(var i = 0; i != projection.length; ++i)\n",
       "                {\n",
       "                    var segment = projection[i];\n",
       "                    if(in_range(segment.range.bounds.min, range, segment.range.bounds.max))\n",
       "                    {\n",
       "                        if(segment.scale == \"linear\")\n",
       "                        {\n",
       "                            var amount = (range - segment.range.min) / (segment.range.max - segment.range.min);\n",
       "                            return mix(segment.domain.min, segment.domain.max, amount)\n",
       "                        }\n",
       "                        else if(segment.scale[0] == \"log\")\n",
       "                        {\n",
       "                            var amount = (range - segment.range.min) / (segment.range.max - segment.range.min);\n",
       "                            var base = segment.scale[1];\n",
       "                            return sign(segment.domain.min) * Math.pow(base, mix(log(segment.domain.min, base), log(segment.domain.max, base), amount));\n",
       "                        }\n",
       "                    }\n",
       "                }\n",
       "            }\n",
       "\n",
       "            var axes = {};\n",
       "\n",
       "            function display_coordinates(e)\n",
       "            {\n",
       "                var current = canvas.createSVGPoint();\n",
       "                current.x = e.clientX;\n",
       "                current.y = e.clientY;\n",
       "\n",
       "                for(var axis_id in axes)\n",
       "                {\n",
       "                    var axis = document.querySelector(\"#\" + axis_id);\n",
       "                    var coordinates = axis.querySelector(\".toyplot-coordinates-Axis-coordinates\");\n",
       "                    if(coordinates)\n",
       "                    {\n",
       "                        var projection = axes[axis_id];\n",
       "                        var local = current.matrixTransform(axis.getScreenCTM().inverse());\n",
       "                        if(inside(local.x, projection))\n",
       "                        {\n",
       "                            var domain = to_domain(local.x, projection);\n",
       "                            coordinates.style.visibility = \"visible\";\n",
       "                            coordinates.setAttribute(\"transform\", \"translate(\" + local.x + \")\");\n",
       "                            var text = coordinates.querySelector(\"text\");\n",
       "                            text.textContent = domain.toFixed(2);\n",
       "                        }\n",
       "                        else\n",
       "                        {\n",
       "                            coordinates.style.visibility= \"hidden\";\n",
       "                        }\n",
       "                    }\n",
       "                }\n",
       "            }\n",
       "\n",
       "            canvas.addEventListener(\"click\", display_coordinates);\n",
       "\n",
       "            var module = {};\n",
       "            module.show_coordinates = function(axis_id, projection)\n",
       "            {\n",
       "                axes[axis_id] = projection;\n",
       "            }\n",
       "\n",
       "            return module;\n",
       "        })(modules[\"toyplot/canvas\"]);\n",
       "(function(tables, context_menu, io, owner_id, key, label, names, columns, filename)\n",
       "        {\n",
       "            tables.set(owner_id, key, names, columns);\n",
       "\n",
       "            var owner = document.querySelector(\"#\" + owner_id);\n",
       "            function show_item(e)\n",
       "            {\n",
       "                return owner.contains(e.target);\n",
       "            }\n",
       "\n",
       "            function choose_item()\n",
       "            {\n",
       "                io.save_file(\"text/csv\", \"utf-8\", tables.get_csv(owner_id, key), filename + \".csv\");\n",
       "            }\n",
       "\n",
       "            context_menu.add_item(\"Save \" + label + \" as CSV\", show_item, choose_item);\n",
       "        })(modules[\"toyplot/tables\"],modules[\"toyplot/menus/context\"],modules[\"toyplot/io\"],\"tad1d513705a546a09c61ae2c5f879e9b\",\"data\",\"plot data\",[\"x\", \"y0\", \"y1\"],[[0, 1, 2, 3, 4, 5, 6, 7, 8, 9, 10, 11, 12, 13, 14, 15, 16, 17, 18, 19, 20, 21, 22, 23, 24, 25, 26, 27, 28, 29, 30, 31, 32, 33, 34, 35, 36, 37, 38, 39, 40, 41, 42, 43, 44, 45, 46, 47, 48, 49, 50, 51, 52, 53, 54, 55, 56, 57, 58, 59, 60, 61, 62, 63, 64, 65, 66, 67, 68, 69, 70, 71, 72, 73, 74, 75, 76, 77, 78, 79, 80, 81, 82, 83, 84, 85, 86, 87, 88, 89, 90, 91, 92, 93, 94, 95, 96, 97, 98, 99], [0.47143516373249306, -0.7195405309739714, 0.7131664374521259, 0.40051454136041303, -0.3200741920045986, 0.5670887483031399, 1.4266771620205563, 0.7901536576032072, 0.8058500297176361, -1.4368349244677694, -0.2867991997479513, 0.7051468225947265, 1.6584709507071569, -0.3627838694878136, -0.6968612352959106, -0.6947428706124241, -0.28928945904223313, -0.0001975180621978101, 1.3209606740671878, -0.22594487916205241, -0.4285912037912343, -1.084560547930168, -0.8911391714598098, -0.3377002605030679, 0.9804512936770688, 0.5111460089711692, 1.18670009409355, -0.6303271324966468, -0.8134356726756455, 0.2455335148955049, -0.15230671330448647, 0.1851309403094859, 1.2327095132022077, 2.278647768829873, 3.1423650605147118, 3.0202734856670377, 3.1449864394352534, 2.8221916338269577, 3.663866346823099, 6.0548268622861325, 6.131026450123369, 5.564580519658413, 5.600722456342485, 3.5257448556524555, 3.773537055401002, 2.8763802709613033, 2.7395854376999558, 2.757874629049175, 3.5132886114473107, 3.728557192416754, 4.569565987348145, 3.123755910303839, 1.7217826288029952, 1.6208644288540812, 1.0726219796672263, 0.9280024712978419, 1.2820228034970798, 1.2465097782189396, 1.8122480842815347, 3.357906888907092, 2.3836705551397768, 2.3133256780356746, 2.621294533251709, 2.412795770145829, 3.446596502701328, 1.0461428688890324, 3.076746489727832, 1.9341152007050686, 2.1459985874827696, 2.8507192117998783, 2.0652840000366814, 2.52734373719873, 3.2315719626609045, 3.755079930554714, 2.828825617024488, 4.836668567802489, 5.063631109673384, 3.910972000422432, 4.542951446231561, 4.582464132924928, 5.0468564579758235, 1.4833397973510882, 2.804445412821294, 2.9570759650258283, 3.1216055079582268, 2.691509817081739, 3.4588785528341504, 4.443798394744047, 4.714634243570852, 6.106620437017259, 6.186462750025888, 5.786498169329366, 4.75864761064746, 4.1739293993866715, 4.990523325934514, 4.9085762741078485, 4.563810259853204, 5.092098405150598, 4.023109621670466, 3.511228312543651], [0.060611268840718, 0.1236211297632891, 0.2821408144322398, 0.3699356652770406, 0.459474557467889, 0.24744454766785987, 0.2955269178040843, 0.29463584948659555, 0.43440878385845594, 0.42966326413809874, 0.2892243770715376, 0.053511040112317526, -0.06642708395939809, -0.1559879226016018, 0.15043381056894894, 0.15719540174515995, 0.03122450992449765, -0.2735567677018718, -0.33226291236542693, -0.2923561373884444, -0.10622345246738968, -0.017286178243678306, 0.11459133421807147, -0.10221842206679906, -0.1674951769016427, -0.0925924303808939, 0.010991329021959605, 0.13057689699632574, 0.3050668718524675, 0.4493109246472235, 0.7416685970409505, 0.9453989738824491, 1.36487825965266, 1.7688368492640605, 2.1486516083671265, 2.8383331167660844, 3.498988173412071, 3.9803071741294276, 4.349426583853051, 4.392024338868356, 4.475720291061018, 4.44587516123058, 4.436696694994246, 4.336030948574921, 4.053637809592829, 3.786696780958761, 3.6761396107020645, 3.4009211055866597, 3.200480858158942, 2.96129501076484, 2.760877422843276, 2.5595904265763747, 2.3956068904039194, 2.1437425756007666, 1.9308193413635202, 1.7961905526478477, 1.7139588465185074, 1.7796858519888052, 1.8908447524774303, 2.0397529514194974, 2.319596732686551, 2.293387851063435, 2.496747485675534, 2.51028827638926, 2.3756317984532243, 2.42752609363768, 2.3999659071933475, 2.3895269298541275, 2.4805020623558023, 2.5147779987839565, 2.7128538596878964, 2.908400757251747, 3.256124747137116, 3.452232904130411, 3.640258707956154, 3.919945389388181, 4.199891247252303, 4.005643228884545, 3.9000171713586096, 3.914267210025425, 3.7237046478205076, 3.4601356153103247, 3.4099030100227377, 3.398886004301903, 3.41357157215145, 3.531323125378276, 4.0538923423421425, 4.385231537509706, 4.5854061648009985, 4.7023310416263815, 4.957776987054467, 5.118854511640434, 5.132189163319228, 5.174129625716978, 4.9426284240117795, 4.645380153180419, 4.002435912143824, 3.47369728873855, 3.0099273554733643, 2.455424763702863]],\"toyplot\");\n",
       "(function(axis, axis_id, projection)\n",
       "        {\n",
       "            axis.show_coordinates(axis_id, projection);\n",
       "        })(modules[\"toyplot.coordinates.Axis\"],\"t243bbf0412334a768c57e58b75b992d4\",[{\"domain\": {\"bounds\": {\"max\": Infinity, \"min\": -Infinity}, \"max\": 100.0, \"min\": 0.0}, \"range\": {\"bounds\": {\"max\": Infinity, \"min\": -Infinity}, \"max\": 500.0, \"min\": 0.0}, \"scale\": \"linear\"}]);\n",
       "(function(axis, axis_id, projection)\n",
       "        {\n",
       "            axis.show_coordinates(axis_id, projection);\n",
       "        })(modules[\"toyplot.coordinates.Axis\"],\"ta889ee6b7de7485098cfd2953a34f82c\",[{\"domain\": {\"bounds\": {\"max\": Infinity, \"min\": -Infinity}, \"max\": 6.186462750025888, \"min\": -2.0}, \"range\": {\"bounds\": {\"max\": Infinity, \"min\": -Infinity}, \"max\": 150.0, \"min\": 0.0}, \"scale\": \"linear\"}]);\n",
       "})();</script></div></div>"
      ]
     },
     "metadata": {},
     "output_type": "display_data"
    }
   ],
   "source": [
    "toyplot.plot(example, width=600, height=250);"
   ]
  },
  {
   "cell_type": "markdown",
   "metadata": {},
   "source": [
    "## Preliminaries\n",
    "\n",
    "It's a good idea to turn-on Python's standard logging, as Samlab uses it extensively for informational and debugging output:"
   ]
  },
  {
   "cell_type": "code",
   "execution_count": 3,
   "metadata": {},
   "outputs": [],
   "source": [
    "import logging\n",
    "logging.basicConfig(level=logging.INFO)"
   ]
  },
  {
   "cell_type": "markdown",
   "metadata": {},
   "source": [
    "In addition, we need to have a running instance of MongoDB that Samlab will use to store the generated observations.  For production use, you will likely want to setup and administer a shared instance of MongoDB on your own, but for  tutorials and quick tests, Samlab provides a simple way to quickly startup a MongoDB server that stores data in a temporary location:"
   ]
  },
  {
   "cell_type": "code",
   "execution_count": 4,
   "metadata": {},
   "outputs": [
    {
     "name": "stderr",
     "output_type": "stream",
     "text": [
      "INFO:samlab.database:Starting database server: mongod --dbpath /var/folders/tl/h2xygzzn1154jzjn_n01x860001l4n/T/tmpdrcn3xbm --directoryperdb --replSet samlab --bind_ip 127.0.0.1 --port 54443\n"
     ]
    }
   ],
   "source": [
    "import samlab.database\n",
    "db_server = samlab.database.Server()"
   ]
  },
  {
   "cell_type": "markdown",
   "metadata": {},
   "source": [
    "... note that the data is effectively lost once the temporary server is stopped, so you would not want to use it for real work!\n",
    "\n",
    "Now, we can create a database connection to the server:"
   ]
  },
  {
   "cell_type": "code",
   "execution_count": 5,
   "metadata": {},
   "outputs": [],
   "source": [
    "database, fs = samlab.database.connect(\"example\", db_server.uri)"
   ]
  },
  {
   "cell_type": "markdown",
   "metadata": {},
   "source": [
    "Note that the \"example\" database is automatically created if it doesn't already exist on the given server."
   ]
  },
  {
   "cell_type": "markdown",
   "metadata": {},
   "source": [
    "## Data Ingestion\n",
    "\n",
    "Before we can create a model, we'll need to generate some training data and put it in the Samlab database.  For this tutorial, we'll start with a function that creates :ref:`observations` at random:"
   ]
  },
  {
   "cell_type": "code",
   "execution_count": 6,
   "metadata": {},
   "outputs": [],
   "source": [
    "import numpy\n",
    "import samlab.serialize\n",
    "\n",
    "def generate_observation():\n",
    "    kernel = numpy.ones(9)\n",
    "    kernel /= numpy.sum(kernel)\n",
    "\n",
    "    input_features = numpy.cumsum(numpy.random.normal(size=(100,)))\n",
    "    output_features = numpy.convolve(input_features, kernel, mode=\"same\")\n",
    "\n",
    "    attributes = {\"filter-width\": 9, \"acknowledgements\": \"For Bev, and all she does to make life great.\"}\n",
    "    content = {\n",
    "        \"input\": samlab.serialize.array(input_features),\n",
    "        \"output\": samlab.serialize.array(output_features),\n",
    "        }\n",
    "    tags = [\"example\", \"smoothing\"]\n",
    "    \n",
    "    return attributes, content, tags"
   ]
  },
  {
   "cell_type": "markdown",
   "metadata": {},
   "source": [
    " We'll use :func:`samlab.observation.create_many` with our function to generate observations and store them in the database:"
   ]
  },
  {
   "cell_type": "code",
   "execution_count": 7,
   "metadata": {},
   "outputs": [
    {
     "name": "stderr",
     "output_type": "stream",
     "text": [
      "INFO:samlab.observation:Ingested 868 observations in 5.0s (173.47 observations/s).\n",
      "INFO:samlab.observation:Ingested 1000 observations in 5.8s (173.70 observations/s).\n"
     ]
    }
   ],
   "source": [
    "import samlab.observation\n",
    "with samlab.observation.create_many(database, fs) as observations:\n",
    "    for i in range(1000):\n",
    "        attributes, content, tags = generate_observation()\n",
    "        observations.create(attributes=attributes, content=content, tags=tags)"
   ]
  },
  {
   "cell_type": "markdown",
   "metadata": {},
   "source": [
    "Typically, we would load training data from disk or a database, but in this case we are generating input and output feature vectors on the fly using random walks and convolution.  Note that we create one set of input and output feature vectors at a time, and pass them (along with attributes and tags) to Samlab.  This design ensures that we can ingest large numbers of observations even if they don't all fit into memory at once.  In addition, the observation *contents* must all be serializable to the MongoDB database, which is why we use :func:`samlab.serialize.array` to convert our :class:`numpy.ndarray` content to a serializable representation.  There are many functions in :mod:`samlab.serialize` to handle various content data types."
   ]
  },
  {
   "cell_type": "markdown",
   "metadata": {},
   "source": [
    "## Training\n",
    "\n",
    "With our observations stored in the database, we're ready to train our model, which will consist of the following steps:\n",
    "\n",
    "* Loading observations.\n",
    "* Extracting features and weights.\n",
    "* Partitioning the data.\n",
    "* Training models.\n",
    "* Storing results."
   ]
  },
  {
   "cell_type": "markdown",
   "metadata": {},
   "source": [
    "### Loading Observations\n",
    "\n",
    "First, we'll load observations from the database using :func:`samlab.static.load`:"
   ]
  },
  {
   "cell_type": "code",
   "execution_count": 8,
   "metadata": {},
   "outputs": [
    {
     "name": "stderr",
     "output_type": "stream",
     "text": [
      "INFO:samlab.static:Loading 1000 observations.\n"
     ]
    }
   ],
   "source": [
    "import samlab.static\n",
    "observations, inputs, outputs, weights = samlab.static.load(database)"
   ]
  },
  {
   "cell_type": "markdown",
   "metadata": {},
   "source": [
    "The set of four arrays returned - observations, inputs, outputs, and weights - are known in Samlab as :ref:`static-data`.  Collectively, they store the observations retrieved from the database and the input feature vectors, output feature vectors, and weights extracted from those observations, respectively.  For this reason, the lengths of the four arrays are always the same: "
   ]
  },
  {
   "cell_type": "code",
   "execution_count": 9,
   "metadata": {},
   "outputs": [
    {
     "name": "stdout",
     "output_type": "stream",
     "text": [
      "1000 1000 1000 1000\n"
     ]
    }
   ],
   "source": [
    "print(len(observations), len(inputs), len(outputs), len(weights))"
   ]
  },
  {
   "cell_type": "markdown",
   "metadata": {},
   "source": [
    "If you examine a subset of the observations array, you will see that it contains observation records from the database:"
   ]
  },
  {
   "cell_type": "code",
   "execution_count": 10,
   "metadata": {},
   "outputs": [
    {
     "data": {
      "text/plain": [
       "{'_id': ObjectId('5be0c23518b535206b93681c'),\n",
       " 'attributes': {'filter-width': 9,\n",
       "  'acknowledgements': 'For Bev, and all she does to make life great.'},\n",
       " 'content': {'input': {'data': ObjectId('5be0c23518b535206b936818'),\n",
       "   'content-type': 'application/x-numpy-array',\n",
       "   'filename': None},\n",
       "  'output': {'data': ObjectId('5be0c23518b535206b93681a'),\n",
       "   'content-type': 'application/x-numpy-array',\n",
       "   'filename': None}},\n",
       " 'created': datetime.datetime(2018, 11, 5, 22, 20, 37, 883000),\n",
       " 'tags': ['example', 'smoothing']}"
      ]
     },
     "execution_count": 10,
     "metadata": {},
     "output_type": "execute_result"
    }
   ],
   "source": [
    "observations[0]"
   ]
  },
  {
   "cell_type": "markdown",
   "metadata": {},
   "source": [
    "Each record is a subset of the observation that contains its metadata, but not the raw content data.  This ensures that the observation data will fit in memory, while providing the information you will use to extract features from each observation."
   ]
  },
  {
   "cell_type": "markdown",
   "metadata": {},
   "source": [
    "The input and output arrays default to empty values, and the weights array defaults to uniform weights for all observations:"
   ]
  },
  {
   "cell_type": "code",
   "execution_count": 11,
   "metadata": {},
   "outputs": [
    {
     "data": {
      "text/plain": [
       "array([None, None, None], dtype=object)"
      ]
     },
     "execution_count": 11,
     "metadata": {},
     "output_type": "execute_result"
    }
   ],
   "source": [
    "inputs[:3]"
   ]
  },
  {
   "cell_type": "code",
   "execution_count": 12,
   "metadata": {},
   "outputs": [
    {
     "data": {
      "text/plain": [
       "array([None, None, None], dtype=object)"
      ]
     },
     "execution_count": 12,
     "metadata": {},
     "output_type": "execute_result"
    }
   ],
   "source": [
    "outputs[:3]"
   ]
  },
  {
   "cell_type": "code",
   "execution_count": 13,
   "metadata": {},
   "outputs": [
    {
     "data": {
      "text/plain": [
       "array([1., 1., 1.])"
      ]
     },
     "execution_count": 13,
     "metadata": {},
     "output_type": "execute_result"
    }
   ],
   "source": [
    "weights[:3]"
   ]
  },
  {
   "cell_type": "markdown",
   "metadata": {},
   "source": [
    "We'll substitute real inputs and outputs in the next section."
   ]
  },
  {
   "cell_type": "markdown",
   "metadata": {},
   "source": [
    "### Extracting Features and Weights\n",
    "\n",
    "Because you can (within reason) store any data you like in an observation, it's up to you to extract the input and output feature vectors that will be used for training.  For an image classification problem, you might store both an original image and a resampled fixed-size image, and use observation tags to store the class.  Or you might use observation attribues to store a regression value.\n",
    "\n",
    "In our case, since we explicitly stored the input and output vectors in the observation content, we just need to pull them back out again, using a custom callback function and :func:`samlab.static.map`:"
   ]
  },
  {
   "cell_type": "code",
   "execution_count": 14,
   "metadata": {},
   "outputs": [],
   "source": [
    "import samlab.deserialize\n",
    "\n",
    "def extract_features(observation, input, output, weight):\n",
    "    input = samlab.deserialize.array(fs, observation[\"content\"][\"input\"])\n",
    "    output = samlab.deserialize.array(fs, observation[\"content\"][\"output\"])\n",
    "    return input, output, weight"
   ]
  },
  {
   "cell_type": "markdown",
   "metadata": {},
   "source": [
    "Our callback function receives one observation (and corresponding input, output, and weight) at a time, returning new input, output, and weight values that may-or-may-not differ from the inputs.  Note that in this case our function overwrites the input and output feature vectors with data from the database, while leaving the weight values unchanged.  Now, we use our callback with :func:`samlab.static.map` to update our static data arrays:"
   ]
  },
  {
   "cell_type": "code",
   "execution_count": 15,
   "metadata": {},
   "outputs": [],
   "source": [
    "observations, inputs, outputs, weights = samlab.static.map(\n",
    "        observations,\n",
    "        inputs,\n",
    "        outputs,\n",
    "        weights,\n",
    "        extract_features,\n",
    "    )"
   ]
  },
  {
   "cell_type": "markdown",
   "metadata": {},
   "source": [
    "This way of working may seem roundabout to you for our toy problem; however, this approach to feature extraction provides tremendous flexibility: for example, we could have computed the smoothed version of our curve in the `extract_features` callback instead of storing it in the database.  In later examples, we'll see how we can extend this approach to streaming data and data augmentation when we can't fit even our features into memory simultaneously."
   ]
  },
  {
   "cell_type": "markdown",
   "metadata": {},
   "source": [
    "### Partitioning Data\n",
    "\n",
    "For this problem, we will want to partition our observations into a training set to be used for training our model, a validation set that we can use to determine when training should stop, and a test set that we will use to evaluate the performance of our trained model.  To do this, Samlab provides :ref:`partition-generators`, which are functions that return one-or-more partitions for a given set of observations. Each partition includes a label and three arrays of indices that you use to access subsets of your static data, for training, validation, and testing:"
   ]
  },
  {
   "cell_type": "code",
   "execution_count": 16,
   "metadata": {},
   "outputs": [
    {
     "name": "stdout",
     "output_type": "stream",
     "text": [
      "Random-0 400 100 500\n"
     ]
    }
   ],
   "source": [
    "import samlab.train\n",
    "\n",
    "for partition in samlab.train.random(\n",
    "        inputs,\n",
    "        outputs,\n",
    "        validation_split=0.2,\n",
    "        test_split=0.5,\n",
    "        n=1,\n",
    "    ):\n",
    "    partition_label, training, validation, testing = partition\n",
    "    print(partition_label, len(training), len(validation), len(testing))"
   ]
  },
  {
   "cell_type": "markdown",
   "metadata": {},
   "source": [
    "Notice in this example that for our 1000 observations we used :func:`samlab.train.random` to generate one partition (```n=1```) that set aside 500 observations (```test_split=0.5```) for testing and 100 of the remaining 500 observations (```validation_split=0.2```) for validation, leaving 400 observations for training."
   ]
  },
  {
   "cell_type": "markdown",
   "metadata": {},
   "source": [
    "### Training Models\n",
    "\n",
    "Now that we have our feature vectors and partitions, we're ready to train a model.  For this example, we'll use a simple Keras neural network to train using our input and output features:"
   ]
  },
  {
   "cell_type": "code",
   "execution_count": 17,
   "metadata": {},
   "outputs": [],
   "source": [
    "from tensorflow.contrib import keras\n",
    "\n",
    "model = keras.models.Sequential()\n",
    "model.add(keras.layers.Dense(outputs.shape[1], input_shape=(inputs.shape[1],)))\n",
    "model.compile(loss=\"mse\", optimizer=\"adam\")\n",
    "\n",
    "history = model.fit(\n",
    "    inputs[training],\n",
    "    outputs[training],\n",
    "    epochs=2000,\n",
    "    validation_data=(inputs[validation], outputs[validation]),\n",
    "    verbose=0,\n",
    ")"
   ]
  },
  {
   "cell_type": "markdown",
   "metadata": {},
   "source": [
    "And we can make predictions using our test partition:"
   ]
  },
  {
   "cell_type": "code",
   "execution_count": 18,
   "metadata": {},
   "outputs": [],
   "source": [
    "predictions = model.predict(inputs[testing])"
   ]
  },
  {
   "cell_type": "markdown",
   "metadata": {},
   "source": [
    "When we spot-check one of our predictions against the ground truth, we see that the blue prediction plot obscures the orange ground truth plot, indicating that our network is performing well:"
   ]
  },
  {
   "cell_type": "code",
   "execution_count": 19,
   "metadata": {},
   "outputs": [
    {
     "data": {
      "text/html": [
       "<div class=\"toyplot\" id=\"t28213ee3d27142c984f3c6e588768f9c\" style=\"text-align:center\"><svg class=\"toyplot-canvas-Canvas\" height=\"300.0px\" id=\"t67b50147013c4229bbf2479fa7971c61\" preserveAspectRatio=\"xMidYMid meet\" style=\"background-color:transparent;border-color:#292724;border-style:none;border-width:1.0;fill:rgb(16.1%,15.3%,14.1%);fill-opacity:1.0;font-family:Helvetica;font-size:12px;opacity:1.0;stroke:rgb(16.1%,15.3%,14.1%);stroke-opacity:1.0;stroke-width:1.0\" viewBox=\"0 0 600.0 300.0\" width=\"600.0px\" xmlns=\"http://www.w3.org/2000/svg\" xmlns:toyplot=\"http://www.sandia.gov/toyplot\" xmlns:xlink=\"http://www.w3.org/1999/xlink\"><g class=\"toyplot-coordinates-Cartesian\" id=\"t88a9622bc1504b9a83916f08a7102287\"><clipPath id=\"t105e711a93c34ace82ab3aa96ada6bc2\"><rect height=\"220.0\" width=\"520.0\" x=\"40.0\" y=\"40.0\"></rect></clipPath><g clip-path=\"url(#t105e711a93c34ace82ab3aa96ada6bc2)\"><g class=\"toyplot-mark-Plot\" id=\"tbf1c84e9e0944ba89f612af35917c928\" style=\"fill:none\"><g class=\"toyplot-Series\"><path d=\"M 50.0 66.69315096593988 L 55.0 83.11459077163326 L 60.0 87.76047132650659 L 65.0 79.16105662650146 L 70.0 91.44812424932856 L 75.0 107.13977702452802 L 80.0 93.09550354507303 L 85.0 79.99767821967446 L 90.0 93.12464187737422 L 95.0 92.84677294926243 L 100.0 74.71530206661188 L 105.0 90.53467879560664 L 110.0 85.9233944173578 L 115.0 96.02296926623441 L 120.00000000000001 105.62207121880718 L 125.0 122.47325091510854 L 130.0 132.49333547556324 L 135.0 148.74471611439756 L 140.0 120.4498046930393 L 145.0 104.85601803736944 L 150.0 105.51075218335365 L 155.0 118.90885482987461 L 160.0 134.21724261394567 L 165.0 133.43553601753848 L 170.0 137.15259969709334 L 175.0 139.98602400178873 L 180.0 137.2683559793537 L 185.0 133.91904420518216 L 190.00000000000003 118.11856356833073 L 195.0 118.32531131189465 L 200.0 126.85159460806975 L 205.0 121.40101918195856 L 210.0 101.47527421889436 L 215.0 83.76414409441337 L 220.0 83.93299579430065 L 225.0 79.95848544825384 L 230.0 65.96832657295404 L 235.0 59.99382588702731 L 240.0 55.62721369423098 L 245.0 65.06356029859204 L 250.0 80.51890800093923 L 255.0 78.05561259358367 L 260.0 111.13726609911541 L 265.0 114.66820134608079 L 270.0 116.87027410381421 L 275.0 108.50187550848803 L 280.0 100.59052858671174 L 285.0 81.69177483011899 L 290.0 68.76951330976027 L 295.0 70.80645968080472 L 300.0 65.713631233778 L 305.0 62.51962344580599 L 310.0 52.783662819812506 L 315.0 60.02330976048209 L 320.0 72.80766003855557 L 325.0 94.02418634903434 L 330.00000000000006 92.18376093440459 L 335.0 93.56263929129977 L 340.0 92.44813943291331 L 345.0 113.65100761161423 L 350.0 114.83736301401709 L 355.0 112.83769794340515 L 360.0 111.00170532113074 L 365.0 105.47503287261253 L 370.0 112.52181285236409 L 375.0 95.48617378511855 L 380.0 110.82927713569381 L 385.0 104.0164144551533 L 390.0 97.10918964585274 L 394.99999999999994 100.30698020723614 L 400.0 92.12083008922436 L 405.0 86.67292171013024 L 410.0 127.10168701677722 L 415.0 120.69097068498266 L 420.0 130.17222672859822 L 425.0 142.15032156030736 L 430.0 151.55334849977464 L 435.0 167.90226443963655 L 440.0 181.99107057906696 L 445.0 181.08560960007802 L 450.0 186.71325631168347 L 455.00000000000006 187.0482781674936 L 460.0 208.96815574472083 L 465.0 197.6299337290231 L 470.0 206.23780701170017 L 475.0 206.08362044989175 L 480.0 212.82241482259715 L 485.0 211.26575405306752 L 490.0 206.92963083396717 L 495.0 215.92620364352737 L 500.0 212.56594011113046 L 505.0 213.74179012178553 L 510.0 250.0 L 515.0 236.6067235648496 L 520.0 227.8214584418323 L 525.0 221.19806511226395 L 530.0 226.59213826679908 L 535.0 230.58146151548675 L 540.0 240.81713163032353 L 545.0 241.0694828271739\" style=\"stroke:rgb(40%,76.1%,64.7%);stroke-opacity:1.0;stroke-width:2.0\"></path></g></g><g class=\"toyplot-mark-Plot\" id=\"t2d26046b6f0b4383a6bc792a46e9fe61\" style=\"fill:none\"><g class=\"toyplot-Series\"><path d=\"M 50.0 67.57526599332331 L 55.0 73.92413010715974 L 60.0 78.71251938994564 L 65.0 82.04559474768725 L 70.0 86.83722162295105 L 75.0 89.743179621098 L 80.0 88.80992532054006 L 85.0 89.11817059488452 L 90.0 89.8695414605352 L 95.0 90.37785757352476 L 100.0 90.20922359511134 L 105.0 93.4734177473375 L 110.0 99.30626855354737 L 115.0 105.48627680210552 L 120.00000000000001 108.55328032919184 L 125.0 111.9022487703871 L 130.0 113.56625692458121 L 135.0 117.23130808152754 L 140.0 121.47511623127323 L 145.0 124.56550120891005 L 150.0 126.19653996246392 L 155.0 127.02906090982233 L 160.0 125.7539097837063 L 165.0 127.2504919517222 L 170.0 128.72410812182903 L 175.0 130.14794802500023 L 180.0 131.03047466702193 L 185.0 129.60644984124556 L 190.00000000000003 126.05530964139622 L 195.0 120.12325901887621 L 200.0 113.89514477359978 L 205.0 107.52738138125535 L 210.0 99.97730164434108 L 215.0 93.51899745752962 L 220.0 86.5525421666781 L 225.0 79.68720502118059 L 230.0 75.14474822328951 L 235.0 72.54256359825501 L 240.0 75.58402159877744 L 245.0 78.99904443786414 L 250.0 83.10035428848197 L 255.0 87.82630417020796 L 260.0 92.33704891461734 L 265.0 95.23311126304934 L 270.0 95.64488381984582 L 275.0 94.5657228953864 L 280.0 93.19439163318579 L 285.0 87.79243133837365 L 290.0 80.9163715021216 L 295.0 74.60004213064025 L 300.0 70.63401818953665 L 305.0 69.9044246075725 L 310.0 71.070200841382 L 315.0 73.82499261710862 L 320.0 76.22962370067626 L 325.0 81.55599885376917 L 330.00000000000006 87.36908102801485 L 335.0 94.04175159730292 L 340.0 99.70601777070833 L 345.0 103.33572586338131 L 350.0 105.3910176970846 L 355.0 105.75795245827507 L 360.0 107.67646777431882 L 365.0 108.96183166567883 L 370.0 107.12385189170533 L 375.0 105.50936491317412 L 380.0 103.20749070715402 L 385.0 100.50429252815398 L 390.0 102.90725409972782 L 394.99999999999994 103.81493830335211 L 400.0 107.66894418596095 L 405.0 111.14906023314025 L 410.0 116.43094179365372 L 415.0 124.29683899296305 L 420.0 133.37284903427755 L 425.0 143.2578245354835 L 430.0 154.37341726898947 L 435.0 161.03414961906904 L 440.0 170.84272573681773 L 445.0 178.33802651464268 L 450.0 185.45885823146418 L 455.00000000000006 191.5177773370327 L 460.0 196.50890515736168 L 465.0 199.76164776558394 L 470.0 202.63320568046052 L 475.0 205.87908871733205 L 480.0 208.7143844888473 L 485.0 209.24478830852112 L 490.0 215.0636845608519 L 495.0 218.4380086223129 L 500.0 220.8533239547508 L 505.0 221.78395176471375 L 510.0 223.48688334401723 L 515.0 226.1148645308528 L 520.0 228.88052319605234 L 525.0 232.04758349783495 L 530.0 213.854051262081 L 535.0 191.6318290398588 L 540.0 170.89774864376437 L 545.0 151.13980881689412\" style=\"stroke:rgb(98.8%,55.3%,38.4%);stroke-opacity:1.0;stroke-width:2.0\"></path></g></g><g class=\"toyplot-mark-Plot\" id=\"t789bd6bb6b83498fac908a871cbed0fc\" style=\"fill:none\"><g class=\"toyplot-Series\"><path d=\"M 50.0 67.77095629525101 L 55.0 76.19419515513258 L 60.0 78.82044228452898 L 65.0 82.00823327233616 L 70.0 86.5752758361898 L 75.0 89.5614612850301 L 80.0 88.25700846877385 L 85.0 89.01253990606716 L 90.0 89.87034966367106 L 95.0 90.57983293431411 L 100.0 90.13748613062822 L 105.0 93.44056499292243 L 110.0 101.24162240472737 L 115.0 104.19958159569849 L 120.00000000000001 108.6880177923252 L 125.0 112.17073501643499 L 130.0 113.36165140272094 L 135.0 117.94663117421096 L 140.0 120.50984551748259 L 145.0 124.27436961528491 L 150.0 126.07789627204961 L 155.0 127.28444388886535 L 160.0 125.84318074512704 L 165.0 127.3706819422308 L 170.0 128.73443131265697 L 175.0 129.8120583379483 L 180.0 131.13135725443377 L 185.0 129.67317263107032 L 190.00000000000003 123.35170974197933 L 195.0 120.27816070332868 L 200.0 113.87963974592523 L 205.0 110.0158268624184 L 210.0 99.96282632899296 L 215.0 93.378874614899 L 220.0 84.3769576631413 L 225.0 80.19067584296207 L 230.0 74.84237098060056 L 235.0 72.43524932575956 L 240.0 74.41327256443428 L 245.0 77.34747744599647 L 250.0 83.10198292089783 L 255.0 88.07700499391638 L 260.0 91.08463053942646 L 265.0 95.093626643481 L 270.0 95.61703403288581 L 275.0 94.6338697126402 L 280.0 93.3130554397704 L 285.0 89.13322486506799 L 290.0 80.91574093033978 L 295.0 74.68642927876618 L 300.0 72.56399559639557 L 305.0 70.01379355251123 L 310.0 70.36756063798413 L 315.0 74.03757947997273 L 320.0 76.24738636039166 L 325.0 80.26621580967937 L 330.00000000000006 88.070770620096 L 335.0 94.01570313541885 L 340.0 99.31740529854017 L 345.0 103.13159575088147 L 350.0 105.25934278883523 L 355.0 105.53449527144872 L 360.0 107.46473537022152 L 365.0 110.53435875736925 L 370.0 106.85836221877393 L 375.0 105.48493872534337 L 380.0 103.22308264737529 L 385.0 102.30889998514738 L 390.0 102.71886977217213 L 394.99999999999994 105.54483922589833 L 400.0 107.65608754669651 L 405.0 111.93180833608203 L 410.0 117.20195430058374 L 415.0 123.10042412241928 L 420.0 133.69241935240586 L 425.0 143.3921716452074 L 430.0 154.4277325524934 L 435.0 161.0337090931663 L 440.0 170.86490208104448 L 445.0 177.60528414450255 L 450.0 185.4688637332158 L 455.00000000000006 191.45468616401834 L 460.0 195.49562554142105 L 465.0 199.64235436380028 L 470.0 202.62919866324248 L 475.0 205.5746671448861 L 480.0 208.7026701857828 L 485.0 208.00468385814273 L 490.0 215.46469549151288 L 495.0 217.49828179761352 L 500.0 221.01635733735796 L 505.0 221.8541188201886 L 510.0 222.3017309382679 L 515.0 226.22525215757085 L 520.0 228.86981258848888 L 525.0 232.14600211059354 L 530.0 212.84476509226207 L 535.0 191.5569727199614 L 540.0 171.45768094840645 L 545.0 151.10432540392011\" style=\"stroke:rgb(55.3%,62.7%,79.6%);stroke-opacity:1.0;stroke-width:2.0\"></path></g></g></g><g class=\"toyplot-coordinates-Axis\" id=\"tafe0b2d4644d4356b02080991e54c028\" transform=\"translate(50.0,250.0)translate(0,10.0)\"><line style=\"\" x1=\"0\" x2=\"495.0\" y1=\"0\" y2=\"0\"></line><g><g transform=\"translate(0.0,6)\"><text style=\"fill:rgb(16.1%,15.3%,14.1%);fill-opacity:1.0;font-family:helvetica;font-size:10.0px;font-weight:normal;stroke:none;vertical-align:baseline;white-space:pre\" x=\"-2.78\" y=\"8.555\">0</text></g><g transform=\"translate(250.0,6)\"><text style=\"fill:rgb(16.1%,15.3%,14.1%);fill-opacity:1.0;font-family:helvetica;font-size:10.0px;font-weight:normal;stroke:none;vertical-align:baseline;white-space:pre\" x=\"-5.56\" y=\"8.555\">50</text></g><g transform=\"translate(500.0,6)\"><text style=\"fill:rgb(16.1%,15.3%,14.1%);fill-opacity:1.0;font-family:helvetica;font-size:10.0px;font-weight:normal;stroke:none;vertical-align:baseline;white-space:pre\" x=\"-8.34\" y=\"8.555\">100</text></g></g><g class=\"toyplot-coordinates-Axis-coordinates\" style=\"visibility:hidden\" transform=\"\"><line style=\"stroke:rgb(43.9%,50.2%,56.5%);stroke-opacity:1.0;stroke-width:1.0\" x1=\"0\" x2=\"0\" y1=\"-3.0\" y2=\"4.5\"></line><text style=\"alignment-baseline:alphabetic;fill:rgb(43.9%,50.2%,56.5%);fill-opacity:1.0;font-size:10px;font-weight:normal;stroke:none;text-anchor:middle\" x=\"0\" y=\"-6\"></text></g></g><g class=\"toyplot-coordinates-Axis\" id=\"tbb4ea6e74a7045edaeca5724679466a9\" transform=\"translate(50.0,250.0)rotate(-90.0)translate(0,-10.0)\"><line style=\"\" x1=\"0\" x2=\"197.2163371801875\" y1=\"0\" y2=\"0\"></line><g><g transform=\"translate(27.286267818684834,-6)\"><text style=\"fill:rgb(16.1%,15.3%,14.1%);fill-opacity:1.0;font-family:helvetica;font-size:10.0px;font-weight:normal;stroke:none;vertical-align:baseline;white-space:pre\" x=\"-7.2250000000000005\" y=\"-4.440892098500626e-16\">-15</text></g><g transform=\"translate(84.85751187912322,-6)\"><text style=\"fill:rgb(16.1%,15.3%,14.1%);fill-opacity:1.0;font-family:helvetica;font-size:10.0px;font-weight:normal;stroke:none;vertical-align:baseline;white-space:pre\" x=\"-7.2250000000000005\" y=\"-4.440892098500626e-16\">-10</text></g><g transform=\"translate(142.42875593956163,-6)\"><text style=\"fill:rgb(16.1%,15.3%,14.1%);fill-opacity:1.0;font-family:helvetica;font-size:10.0px;font-weight:normal;stroke:none;vertical-align:baseline;white-space:pre\" x=\"-4.445\" y=\"-4.440892098500626e-16\">-5</text></g><g transform=\"translate(200.0,-6)\"><text style=\"fill:rgb(16.1%,15.3%,14.1%);fill-opacity:1.0;font-family:helvetica;font-size:10.0px;font-weight:normal;stroke:none;vertical-align:baseline;white-space:pre\" x=\"-2.78\" y=\"-4.440892098500626e-16\">0</text></g></g><g class=\"toyplot-coordinates-Axis-coordinates\" style=\"visibility:hidden\" transform=\"\"><line style=\"stroke:rgb(43.9%,50.2%,56.5%);stroke-opacity:1.0;stroke-width:1.0\" x1=\"0\" x2=\"0\" y1=\"3.0\" y2=\"-4.5\"></line><text style=\"alignment-baseline:hanging;fill:rgb(43.9%,50.2%,56.5%);fill-opacity:1.0;font-size:10px;font-weight:normal;stroke:none;text-anchor:middle\" x=\"0\" y=\"6\"></text></g></g></g></svg><div class=\"toyplot-behavior\"><script>(function()\n",
       "{\n",
       "var modules={};\n",
       "modules[\"toyplot/tables\"] = (function()\n",
       "    {\n",
       "        var tables = [];\n",
       "\n",
       "        var module = {};\n",
       "\n",
       "        module.set = function(owner, key, names, columns)\n",
       "        {\n",
       "            tables.push({owner: owner, key: key, names: names, columns: columns});\n",
       "        }\n",
       "\n",
       "        module.get = function(owner, key)\n",
       "        {\n",
       "            for(var i = 0; i != tables.length; ++i)\n",
       "            {\n",
       "                var table = tables[i];\n",
       "                if(table.owner != owner)\n",
       "                    continue;\n",
       "                if(table.key != key)\n",
       "                    continue;\n",
       "                return {names: table.names, columns: table.columns};\n",
       "            }\n",
       "        }\n",
       "\n",
       "        module.get_csv = function(owner, key)\n",
       "        {\n",
       "            var table = module.get(owner, key);\n",
       "            if(table != undefined)\n",
       "            {\n",
       "                var csv = \"\";\n",
       "                csv += table.names.join(\",\") + \"\\n\";\n",
       "                for(var i = 0; i != table.columns[0].length; ++i)\n",
       "                {\n",
       "                  for(var j = 0; j != table.columns.length; ++j)\n",
       "                  {\n",
       "                    if(j)\n",
       "                      csv += \",\";\n",
       "                    csv += table.columns[j][i];\n",
       "                  }\n",
       "                  csv += \"\\n\";\n",
       "                }\n",
       "                return csv;\n",
       "            }\n",
       "        }\n",
       "\n",
       "        return module;\n",
       "    })();\n",
       "modules[\"toyplot/root/id\"] = \"t28213ee3d27142c984f3c6e588768f9c\";\n",
       "modules[\"toyplot/root\"] = (function(root_id)\n",
       "    {\n",
       "        return document.querySelector(\"#\" + root_id);\n",
       "    })(modules[\"toyplot/root/id\"]);\n",
       "modules[\"toyplot/canvas/id\"] = \"t67b50147013c4229bbf2479fa7971c61\";\n",
       "modules[\"toyplot/canvas\"] = (function(canvas_id)\n",
       "    {\n",
       "        return document.querySelector(\"#\" + canvas_id);\n",
       "    })(modules[\"toyplot/canvas/id\"]);\n",
       "modules[\"toyplot/menus/context\"] = (function(root, canvas)\n",
       "    {\n",
       "        var wrapper = document.createElement(\"div\");\n",
       "        wrapper.innerHTML = \"<ul class='toyplot-context-menu' style='background:#eee; border:1px solid #b8b8b8; border-radius:5px; box-shadow: 0px 0px 8px rgba(0%,0%,0%,0.25); margin:0; padding:3px 0; position:fixed; visibility:hidden;'></ul>\"\n",
       "        var menu = wrapper.firstChild;\n",
       "\n",
       "        root.appendChild(menu);\n",
       "\n",
       "        var items = [];\n",
       "\n",
       "        var ignore_mouseup = null;\n",
       "        function open_menu(e)\n",
       "        {\n",
       "            var show_menu = false;\n",
       "            for(var index=0; index != items.length; ++index)\n",
       "            {\n",
       "                var item = items[index];\n",
       "                if(item.show(e))\n",
       "                {\n",
       "                    item.item.style.display = \"block\";\n",
       "                    show_menu = true;\n",
       "                }\n",
       "                else\n",
       "                {\n",
       "                    item.item.style.display = \"none\";\n",
       "                }\n",
       "            }\n",
       "\n",
       "            if(show_menu)\n",
       "            {\n",
       "                ignore_mouseup = true;\n",
       "                menu.style.left = (e.clientX + 1) + \"px\";\n",
       "                menu.style.top = (e.clientY - 5) + \"px\";\n",
       "                menu.style.visibility = \"visible\";\n",
       "                e.stopPropagation();\n",
       "                e.preventDefault();\n",
       "            }\n",
       "        }\n",
       "\n",
       "        function close_menu()\n",
       "        {\n",
       "            menu.style.visibility = \"hidden\";\n",
       "        }\n",
       "\n",
       "        function contextmenu(e)\n",
       "        {\n",
       "            open_menu(e);\n",
       "        }\n",
       "\n",
       "        function mousemove(e)\n",
       "        {\n",
       "            ignore_mouseup = false;\n",
       "        }\n",
       "\n",
       "        function mouseup(e)\n",
       "        {\n",
       "            if(ignore_mouseup)\n",
       "            {\n",
       "                ignore_mouseup = false;\n",
       "                return;\n",
       "            }\n",
       "            close_menu();\n",
       "        }\n",
       "\n",
       "        function keydown(e)\n",
       "        {\n",
       "            if(e.key == \"Escape\" || e.key == \"Esc\" || e.keyCode == 27)\n",
       "            {\n",
       "                close_menu();\n",
       "            }\n",
       "        }\n",
       "\n",
       "        canvas.addEventListener(\"contextmenu\", contextmenu);\n",
       "        canvas.addEventListener(\"mousemove\", mousemove);\n",
       "        document.addEventListener(\"mouseup\", mouseup);\n",
       "        document.addEventListener(\"keydown\", keydown);\n",
       "\n",
       "        var module = {};\n",
       "        module.add_item = function(label, show, activate)\n",
       "        {\n",
       "            var wrapper = document.createElement(\"div\");\n",
       "            wrapper.innerHTML = \"<li class='toyplot-context-menu-item' style='background:#eee; color:#333; padding:2px 20px; list-style:none; margin:0; text-align:left;'>\" + label + \"</li>\"\n",
       "            var item = wrapper.firstChild;\n",
       "\n",
       "            items.push({item: item, show: show});\n",
       "\n",
       "            function mouseover()\n",
       "            {\n",
       "                this.style.background = \"steelblue\";\n",
       "                this.style.color = \"white\";\n",
       "            }\n",
       "\n",
       "            function mouseout()\n",
       "            {\n",
       "                this.style.background = \"#eee\";\n",
       "                this.style.color = \"#333\";\n",
       "            }\n",
       "\n",
       "            function choose_item(e)\n",
       "            {\n",
       "                close_menu();\n",
       "                activate();\n",
       "\n",
       "                e.stopPropagation();\n",
       "                e.preventDefault();\n",
       "            }\n",
       "\n",
       "            item.addEventListener(\"mouseover\", mouseover);\n",
       "            item.addEventListener(\"mouseout\", mouseout);\n",
       "            item.addEventListener(\"mouseup\", choose_item);\n",
       "            item.addEventListener(\"contextmenu\", choose_item);\n",
       "\n",
       "            menu.appendChild(item);\n",
       "        };\n",
       "        return module;\n",
       "    })(modules[\"toyplot/root\"],modules[\"toyplot/canvas\"]);\n",
       "modules[\"toyplot/io\"] = (function()\n",
       "    {\n",
       "        var module = {};\n",
       "        module.save_file = function(mime_type, charset, data, filename)\n",
       "        {\n",
       "            var uri = \"data:\" + mime_type + \";charset=\" + charset + \",\" + data;\n",
       "            uri = encodeURI(uri);\n",
       "\n",
       "            var link = document.createElement(\"a\");\n",
       "            if(typeof link.download != \"undefined\")\n",
       "            {\n",
       "              link.href = uri;\n",
       "              link.style = \"visibility:hidden\";\n",
       "              link.download = filename;\n",
       "\n",
       "              document.body.appendChild(link);\n",
       "              link.click();\n",
       "              document.body.removeChild(link);\n",
       "            }\n",
       "            else\n",
       "            {\n",
       "              window.open(uri);\n",
       "            }\n",
       "        };\n",
       "        return module;\n",
       "    })();\n",
       "modules[\"toyplot.coordinates.Axis\"] = (\n",
       "        function(canvas)\n",
       "        {\n",
       "            function sign(x)\n",
       "            {\n",
       "                return x < 0 ? -1 : x > 0 ? 1 : 0;\n",
       "            }\n",
       "\n",
       "            function mix(a, b, amount)\n",
       "            {\n",
       "                return ((1.0 - amount) * a) + (amount * b);\n",
       "            }\n",
       "\n",
       "            function log(x, base)\n",
       "            {\n",
       "                return Math.log(Math.abs(x)) / Math.log(base);\n",
       "            }\n",
       "\n",
       "            function in_range(a, x, b)\n",
       "            {\n",
       "                var left = Math.min(a, b);\n",
       "                var right = Math.max(a, b);\n",
       "                return left <= x && x <= right;\n",
       "            }\n",
       "\n",
       "            function inside(range, projection)\n",
       "            {\n",
       "                for(var i = 0; i != projection.length; ++i)\n",
       "                {\n",
       "                    var segment = projection[i];\n",
       "                    if(in_range(segment.range.min, range, segment.range.max))\n",
       "                        return true;\n",
       "                }\n",
       "                return false;\n",
       "            }\n",
       "\n",
       "            function to_domain(range, projection)\n",
       "            {\n",
       "                for(var i = 0; i != projection.length; ++i)\n",
       "                {\n",
       "                    var segment = projection[i];\n",
       "                    if(in_range(segment.range.bounds.min, range, segment.range.bounds.max))\n",
       "                    {\n",
       "                        if(segment.scale == \"linear\")\n",
       "                        {\n",
       "                            var amount = (range - segment.range.min) / (segment.range.max - segment.range.min);\n",
       "                            return mix(segment.domain.min, segment.domain.max, amount)\n",
       "                        }\n",
       "                        else if(segment.scale[0] == \"log\")\n",
       "                        {\n",
       "                            var amount = (range - segment.range.min) / (segment.range.max - segment.range.min);\n",
       "                            var base = segment.scale[1];\n",
       "                            return sign(segment.domain.min) * Math.pow(base, mix(log(segment.domain.min, base), log(segment.domain.max, base), amount));\n",
       "                        }\n",
       "                    }\n",
       "                }\n",
       "            }\n",
       "\n",
       "            var axes = {};\n",
       "\n",
       "            function display_coordinates(e)\n",
       "            {\n",
       "                var current = canvas.createSVGPoint();\n",
       "                current.x = e.clientX;\n",
       "                current.y = e.clientY;\n",
       "\n",
       "                for(var axis_id in axes)\n",
       "                {\n",
       "                    var axis = document.querySelector(\"#\" + axis_id);\n",
       "                    var coordinates = axis.querySelector(\".toyplot-coordinates-Axis-coordinates\");\n",
       "                    if(coordinates)\n",
       "                    {\n",
       "                        var projection = axes[axis_id];\n",
       "                        var local = current.matrixTransform(axis.getScreenCTM().inverse());\n",
       "                        if(inside(local.x, projection))\n",
       "                        {\n",
       "                            var domain = to_domain(local.x, projection);\n",
       "                            coordinates.style.visibility = \"visible\";\n",
       "                            coordinates.setAttribute(\"transform\", \"translate(\" + local.x + \")\");\n",
       "                            var text = coordinates.querySelector(\"text\");\n",
       "                            text.textContent = domain.toFixed(2);\n",
       "                        }\n",
       "                        else\n",
       "                        {\n",
       "                            coordinates.style.visibility= \"hidden\";\n",
       "                        }\n",
       "                    }\n",
       "                }\n",
       "            }\n",
       "\n",
       "            canvas.addEventListener(\"click\", display_coordinates);\n",
       "\n",
       "            var module = {};\n",
       "            module.show_coordinates = function(axis_id, projection)\n",
       "            {\n",
       "                axes[axis_id] = projection;\n",
       "            }\n",
       "\n",
       "            return module;\n",
       "        })(modules[\"toyplot/canvas\"]);\n",
       "(function(tables, context_menu, io, owner_id, key, label, names, columns, filename)\n",
       "        {\n",
       "            tables.set(owner_id, key, names, columns);\n",
       "\n",
       "            var owner = document.querySelector(\"#\" + owner_id);\n",
       "            function show_item(e)\n",
       "            {\n",
       "                return owner.contains(e.target);\n",
       "            }\n",
       "\n",
       "            function choose_item()\n",
       "            {\n",
       "                io.save_file(\"text/csv\", \"utf-8\", tables.get_csv(owner_id, key), filename + \".csv\");\n",
       "            }\n",
       "\n",
       "            context_menu.add_item(\"Save \" + label + \" as CSV\", show_item, choose_item);\n",
       "        })(modules[\"toyplot/tables\"],modules[\"toyplot/menus/context\"],modules[\"toyplot/io\"],\"tbf1c84e9e0944ba89f612af35917c928\",\"data\",\"plot data\",[\"x\", \"y0\"],[[0, 1, 2, 3, 4, 5, 6, 7, 8, 9, 10, 11, 12, 13, 14, 15, 16, 17, 18, 19, 20, 21, 22, 23, 24, 25, 26, 27, 28, 29, 30, 31, 32, 33, 34, 35, 36, 37, 38, 39, 40, 41, 42, 43, 44, 45, 46, 47, 48, 49, 50, 51, 52, 53, 54, 55, 56, 57, 58, 59, 60, 61, 62, 63, 64, 65, 66, 67, 68, 69, 70, 71, 72, 73, 74, 75, 76, 77, 78, 79, 80, 81, 82, 83, 84, 85, 86, 87, 88, 89, 90, 91, 92, 93, 94, 95, 96, 97, 98, 99], [-1.449782025590361, -2.8759662321062143, -3.2794559109114934, -2.5326060868068208, -3.599724560912411, -4.962527556686337, -3.7427976629991964, -2.6052657632500393, -3.745328295503038, -3.7211956809793634, -2.1464971332446536, -3.520392815643628, -3.1199077771921457, -3.9970448804197654, -4.830716456328008, -6.2942231054644235, -7.164456563502572, -8.575871316132686, -6.118488999393602, -4.764185569776944, -4.821048519038287, -5.984659177899124, -7.314176025580954, -7.246285656946002, -7.569108599216685, -7.8151884217858205, -7.57916190657086, -7.2882778177490675, -5.916023240423617, -5.9339790573369084, -6.674477498470487, -6.201100944336174, -4.470571642055843, -2.93237923250084, -2.947043819191899, -2.6018619136320345, -1.3868318145244924, -0.867952920778972, -0.48871739581686957, -1.3082538465538702, -2.6505340034775386, -2.4365994735263006, -5.3097051398553585, -5.616363029969615, -5.807610656599124, -5.080824330204907, -4.39373244510764, -2.7523962133638196, -1.6301118393460465, -1.8070184186885094, -1.3647118010235983, -1.0873156946776135, -0.24175809166901308, -0.8705135631565979, -1.9808204956116677, -3.823452755582082, -3.663613807799603, -3.7833678950525766, -3.686574793168547, -5.528020859232546, -5.631054537048975, -5.45738579814586, -5.2979318335635615, -4.8179463357066545, -5.429951521173365, -3.950424776071112, -5.282956632988089, -4.691266910825029, -4.091381940296219, -4.369106576403299, -3.658148332265136, -3.1850034082667156, -6.69619775246091, -6.139434003785914, -6.9628707905315785, -8.003155313403319, -8.819797987443504, -10.239683575003394, -11.463281081828153, -11.38464277951542, -11.873397782420827, -11.90249406662292, -13.806211619974357, -12.821499356001492, -13.569083798821636, -13.555692863440203, -14.1409498335372, -14.005755536893599, -13.629167946173107, -14.41051052061145, -14.118675283486011, -14.220796579442432, -17.3697827156592, -16.206591208012593, -15.443600476581246, -14.868365961706504, -15.336835354939732, -15.683303745000892, -16.572260574220298, -16.59417700150694]],\"toyplot\");\n",
       "(function(tables, context_menu, io, owner_id, key, label, names, columns, filename)\n",
       "        {\n",
       "            tables.set(owner_id, key, names, columns);\n",
       "\n",
       "            var owner = document.querySelector(\"#\" + owner_id);\n",
       "            function show_item(e)\n",
       "            {\n",
       "                return owner.contains(e.target);\n",
       "            }\n",
       "\n",
       "            function choose_item()\n",
       "            {\n",
       "                io.save_file(\"text/csv\", \"utf-8\", tables.get_csv(owner_id, key), filename + \".csv\");\n",
       "            }\n",
       "\n",
       "            context_menu.add_item(\"Save \" + label + \" as CSV\", show_item, choose_item);\n",
       "        })(modules[\"toyplot/tables\"],modules[\"toyplot/menus/context\"],modules[\"toyplot/io\"],\"t2d26046b6f0b4383a6bc792a46e9fe61\",\"data\",\"plot data\",[\"x\", \"y0\"],[[0, 1, 2, 3, 4, 5, 6, 7, 8, 9, 10, 11, 12, 13, 14, 15, 16, 17, 18, 19, 20, 21, 22, 23, 24, 25, 26, 27, 28, 29, 30, 31, 32, 33, 34, 35, 36, 37, 38, 39, 40, 41, 42, 43, 44, 45, 46, 47, 48, 49, 50, 51, 52, 53, 54, 55, 56, 57, 58, 59, 60, 61, 62, 63, 64, 65, 66, 67, 68, 69, 70, 71, 72, 73, 74, 75, 76, 77, 78, 79, 80, 81, 82, 83, 84, 85, 86, 87, 88, 89, 90, 91, 92, 93, 94, 95, 96, 97, 98, 99], [-1.5263927573697, -2.077784708112626, -2.4936511151125367, -2.7831250888069854, -3.1992726771962117, -3.4516519722394343, -3.370599850143705, -3.397370617336165, -3.4626263607123122, -3.506773062879796, -3.4921273850622043, -3.7756191008916744, -4.282195856475289, -4.818922858767471, -5.08528878303572, -5.376143053761529, -5.520660354138714, -5.8389660653283775, -6.20753619256851, -6.475932770414955, -6.617586714165206, -6.689890253974457, -6.579144764023141, -6.709121299395971, -6.837103262801157, -6.960762211501004, -7.037408691564489, -6.913733682537291, -6.6053210142161625, -6.0901288623588465, -5.549223906515077, -4.996190573966319, -4.34047435138581, -3.7795776492030724, -3.174548575700846, -2.578301503265666, -2.183794065392484, -1.9577971577780906, -2.2219444808174815, -2.518535504237228, -2.874729809011349, -3.285173421864728, -3.6769267023456913, -3.928446570962019, -3.9642085701611496, -3.870484616295702, -3.7513859860176244, -3.282231603220097, -2.6850532767422526, -2.136486933026416, -1.792042062516056, -1.7286776525687717, -1.8299240519505258, -2.069174724806807, -2.2780143219712556, -2.740604217327805, -3.2454640887024, -3.82497827831094, -4.316913641689491, -4.63214984614449, -4.810649708987965, -4.842517594351467, -5.00913856523319, -5.120771022750577, -4.9611444762020955, -4.820928036130354, -4.621012762143607, -4.386242937110625, -4.594937538972208, -4.673768925929158, -5.008485149758098, -5.3107294475820135, -5.769455122761844, -6.452599748840418, -7.24084136055429, -8.0993407435821, -9.064717896265892, -9.643195264506113, -10.495059444082607, -11.146018173579263, -11.764454671959077, -12.290665213736489, -12.724139242462467, -13.006636404136405, -13.256028089320592, -13.537929504675105, -13.784171862104339, -13.830236857600791, -14.335601675340534, -14.62865805413953, -14.83842556671076, -14.919249580951792, -15.067147338512473, -15.29538464949334, -15.53557909989432, -15.81063484634109, -14.230546337514154, -12.300570480218688, -10.499838123772845, -8.783882515263816]],\"toyplot\");\n",
       "(function(tables, context_menu, io, owner_id, key, label, names, columns, filename)\n",
       "        {\n",
       "            tables.set(owner_id, key, names, columns);\n",
       "\n",
       "            var owner = document.querySelector(\"#\" + owner_id);\n",
       "            function show_item(e)\n",
       "            {\n",
       "                return owner.contains(e.target);\n",
       "            }\n",
       "\n",
       "            function choose_item()\n",
       "            {\n",
       "                io.save_file(\"text/csv\", \"utf-8\", tables.get_csv(owner_id, key), filename + \".csv\");\n",
       "            }\n",
       "\n",
       "            context_menu.add_item(\"Save \" + label + \" as CSV\", show_item, choose_item);\n",
       "        })(modules[\"toyplot/tables\"],modules[\"toyplot/menus/context\"],modules[\"toyplot/io\"],\"t789bd6bb6b83498fac908a871cbed0fc\",\"data\",\"plot data\",[\"x\", \"y0\"],[[0, 1, 2, 3, 4, 5, 6, 7, 8, 9, 10, 11, 12, 13, 14, 15, 16, 17, 18, 19, 20, 21, 22, 23, 24, 25, 26, 27, 28, 29, 30, 31, 32, 33, 34, 35, 36, 37, 38, 39, 40, 41, 42, 43, 44, 45, 46, 47, 48, 49, 50, 51, 52, 53, 54, 55, 56, 57, 58, 59, 60, 61, 62, 63, 64, 65, 66, 67, 68, 69, 70, 71, 72, 73, 74, 75, 76, 77, 78, 79, 80, 81, 82, 83, 84, 85, 86, 87, 88, 89, 90, 91, 92, 93, 94, 95, 96, 97, 98, 99], [-1.5433882474899292, -2.274937391281128, -2.503024101257324, -2.7798802852630615, -3.176522970199585, -3.4358699321746826, -3.3225796222686768, -3.3881967067718506, -3.4626965522766113, -3.5243144035339355, -3.4858970642089844, -3.772765874862671, -4.450279235839844, -4.707174777984619, -5.096990585327148, -5.399460792541504, -5.502890586853027, -5.9010910987854, -6.123703479766846, -6.450648307800293, -6.607282638549805, -6.712069988250732, -6.586897850036621, -6.719559669494629, -6.8379998207092285, -6.931590557098389, -7.046170234680176, -6.919528484344482, -6.370516300201416, -6.10358190536499, -5.547877311706543, -5.21230936050415, -4.339217185974121, -3.7674081325531006, -2.9856014251708984, -2.6220273971557617, -2.1575329303741455, -1.948477029800415, -2.1202661991119385, -2.375098705291748, -2.874871253967285, -3.3069465160369873, -3.568155527114868, -3.916332483291626, -3.961789846420288, -3.8764030933380127, -3.7616918087005615, -3.3986780643463135, -2.6849985122680664, -2.1439895629882812, -1.9596585035324097, -1.7381762266159058, -1.7689005136489868, -2.0876376628875732, -2.2795569896698, -2.6285879611968994, -3.3064050674438477, -3.822715997695923, -4.283163070678711, -4.614421367645264, -4.799213886260986, -4.823110580444336, -4.990749835968018, -5.257343292236328, -4.938086986541748, -4.8188066482543945, -4.622366905212402, -4.542971134185791, -4.578576564788818, -4.824008941650391, -5.007368564605713, -5.3787102699279785, -5.836416721343994, -6.348692417144775, -7.2685956954956055, -8.111008644104004, -9.069435119628906, -9.643157005310059, -10.49698543548584, -11.082380294799805, -11.765323638916016, -12.285185813903809, -12.636137008666992, -12.996275901794434, -13.255680084228516, -13.511490821838379, -13.783154487609863, -13.722535133361816, -14.370429039001465, -14.547043800354004, -14.852584838867188, -14.92534351348877, -14.964218139648438, -15.304971694946289, -15.534648895263672, -15.819182395935059, -14.142890930175781, -12.294069290161133, -10.548467636108398, -8.780800819396973]],\"toyplot\");\n",
       "(function(axis, axis_id, projection)\n",
       "        {\n",
       "            axis.show_coordinates(axis_id, projection);\n",
       "        })(modules[\"toyplot.coordinates.Axis\"],\"tafe0b2d4644d4356b02080991e54c028\",[{\"domain\": {\"bounds\": {\"max\": Infinity, \"min\": -Infinity}, \"max\": 100.0, \"min\": 0.0}, \"range\": {\"bounds\": {\"max\": Infinity, \"min\": -Infinity}, \"max\": 500.0, \"min\": 0.0}, \"scale\": \"linear\"}]);\n",
       "(function(axis, axis_id, projection)\n",
       "        {\n",
       "            axis.show_coordinates(axis_id, projection);\n",
       "        })(modules[\"toyplot.coordinates.Axis\"],\"tbb4ea6e74a7045edaeca5724679466a9\",[{\"domain\": {\"bounds\": {\"max\": Infinity, \"min\": -Infinity}, \"max\": 0.0, \"min\": -17.3697827156592}, \"range\": {\"bounds\": {\"max\": Infinity, \"min\": -Infinity}, \"max\": 200.0, \"min\": 0.0}, \"scale\": \"linear\"}]);\n",
       "})();</script></div></div>"
      ]
     },
     "metadata": {},
     "output_type": "display_data"
    }
   ],
   "source": [
    "import toyplot\n",
    "\n",
    "canvas, axes, mark = toyplot.plot(inputs[testing][0], width=600, height=300)\n",
    "axes.plot(outputs[testing][0])\n",
    "axes.plot(predictions[0]);"
   ]
  },
  {
   "cell_type": "markdown",
   "metadata": {},
   "source": [
    "### Storing Results\n",
    "\n",
    "Now that our model has been trained, we're ready to save it to the database for later analysis and re-use.  We can store as much or as little of our results as we like, but we will benefit from saving a few standard artifacts:"
   ]
  },
  {
   "cell_type": "code",
   "execution_count": 20,
   "metadata": {},
   "outputs": [],
   "source": [
    "content = {\n",
    "    \"model\": samlab.serialize.keras_model(model),\n",
    "    \"observations\": samlab.serialize.array([observation[\"_id\"] for observation in observations]),\n",
    "    \"training-indices\": samlab.serialize.array(training),\n",
    "    \"training-losses\": samlab.serialize.array(history.history[\"loss\"]),\n",
    "    \"validation-indices\": samlab.serialize.array(validation),\n",
    "    \"validation-losses\": samlab.serialize.array(history.history[\"val_loss\"]),\n",
    "    \"test-indices\": samlab.serialize.array(testing),\n",
    "}"
   ]
  },
  {
   "cell_type": "markdown",
   "metadata": {},
   "source": [
    "... in this case saving `model` allows us to analyze it and use it in the future to make new predictions, while `observations`, `training-indices`, `validation-indices`, and `test-indices` can be used to recreate the data used during training if necessary.  `training-losses` and `validation-losses` are commonly used in visualization to understand how successful the training process was and whether there was overfitting.\n",
    "\n",
    "By saving these standard artifacts, tools like the :ref:`samlab-manager` can be used to perform sophisticated analysis and post processing of experiment results."
   ]
  },
  {
   "cell_type": "markdown",
   "metadata": {},
   "source": [
    "Samlab requires that we explicitly store our experiment using a :ref:`Samlab trial <trials>`, and the models we created as a :ref:`Samlab model <models>`:"
   ]
  },
  {
   "cell_type": "code",
   "execution_count": 21,
   "metadata": {},
   "outputs": [],
   "source": [
    "import samlab.trial\n",
    "trial = samlab.trial.create(\n",
    "    database,\n",
    "    fs,\n",
    "    name=\"Example trial\",\n",
    "    attributes={\"height\":1.88, \"location\": \"USA\"},\n",
    "    tags=[\"examples\", \"smoothing\"],\n",
    ")"
   ]
  },
  {
   "cell_type": "code",
   "execution_count": 22,
   "metadata": {},
   "outputs": [],
   "source": [
    "import samlab.model\n",
    "model = samlab.model.create(\n",
    "    database,\n",
    "    fs,\n",
    "    trial,\n",
    "    name=partition_label,\n",
    "    content=content,\n",
    "    attributes={\"quality\": 2.3},\n",
    "    tags=[\"examples\", \"smoothing\", \"production\"],\n",
    ")"
   ]
  },
  {
   "cell_type": "markdown",
   "metadata": {},
   "source": [
    "## Samlab Manager\n",
    "\n",
    "Before we shut-down our temporary database server, let's take a quick look through the database using the :ref:`samlab-manager`.  Like the temporary database server, Samlab provides an easy way to run the Samlab Manager web server:"
   ]
  },
  {
   "cell_type": "code",
   "execution_count": 23,
   "metadata": {},
   "outputs": [
    {
     "name": "stderr",
     "output_type": "stream",
     "text": [
      "INFO:samlab.manager:Starting message queue: redis-server --bind 127.0.0.1 --save \n",
      "INFO:samlab.manager:Starting generic task queue: huey_consumer samlab.tasks.generic.run.queue\n",
      "INFO:samlab.manager:Starting gpu task queue: huey_consumer samlab.tasks.gpu.run.queue\n",
      "INFO:samlab.manager:Starting Samlab manager: samlab-manager --database-name example --database-uri mongodb://127.0.0.1:54443 --database-replica-set samlab --host 127.0.0.1 --port 54452\n"
     ]
    }
   ],
   "source": [
    "import samlab.manager\n",
    "manager = samlab.manager.Server(database_name=database.name, database_uri=db_server.uri, database_replica_set=db_server.replica_set)"
   ]
  },
  {
   "cell_type": "markdown",
   "metadata": {},
   "source": [
    "This starts an instance of Samlab Manager, connected to the same database we used to store our results.\n",
    "\n",
    "Now, we can open a web browser to see the Samlab Manager user interface:\n",
    "\n",
    "    manager.open_browser()\n",
    "\n",
    "![](samlab-manager-1.png)\n",
    "\n",
    "Samlab Manager provides a *dashboard* with *widgets* that you can add, rearrange, resize, and delete in any way that you like.  By default, the *Trials widget* is open, which displays a list of trials stored in the database, such as the trial we just saved.  Use the *Operations Menu* to open an *Observations widget*:\n",
    "\n",
    "![](samlab-manager-2.png)\n",
    "\n",
    "The Observations widget displays all of the observations stored in the database that we created earlier (1000), provides controls for choosing an observation, and displays the data (\"input\" and \"output\") stored in the currently-visible observation (it also displays the attributes and tags stored with the observation):\n",
    "\n",
    "![](samlab-manager-3.png)\n",
    "\n",
    "If our observations contained image data, the images themselves would be displayed.  Note that you could use the Observations widget operations menu to make changes to the current observation:\n",
    "\n",
    "![](samlab-manager-4.png)\n",
    "\n",
    "But for now, we'll move-on.  Click the close button in the upper-right-hand corner of the Observations widget to remove it, and select the trial that we created earlier using the *Trials widget*:\n",
    "\n",
    "![](samlab-manager-5.png)\n",
    "\n",
    "A *Trial widget* opens, displaying the trial's name, attributes and tags:\n",
    "\n",
    "![](samlab-manager-6.png)\n",
    "\n",
    "You can use the Trial widget operations menu to make changes to the trial.  You can also open the model we created as part of the trial:\n",
    "\n",
    "![](samlab-manager-7.png)\n",
    "\n",
    "The *Model widget* opens, and displays the attributes and tags associated with the model:\n",
    "\n",
    "![](samlab-manager-8.png)\n",
    "\n",
    "Using the Model widget operations menu, we can display a model-specific visualization.  In this case, let's see how the model's loss function evolved during training:\n",
    "\n",
    "![](samlab-manager-9.png)\n",
    "\n",
    "The *Training Loss widget* opens, and provides an interactive visualization.  Note that storing standard artifacts with a model is what makes this visualization possible (depending on the size of your web browser window, you may have to scroll to show the newly-opened widget):\n",
    "\n",
    "![](samlab-manager-10.png)\n",
    "\n",
    "Let's look directly at some of the model content.  Notice that the *Model widget* includes a list of entries for each of the content roles we stored in the model.  Let's open the *model* content:\n",
    "\n",
    "![](samlab-manager-11.png)\n",
    "\n",
    "The *Model Content widget* opens, and you can see that - because Samlab detects that this is a Keras model - it can display a description of the model layers:\n",
    "\n",
    "![](samlab-manager-12.png)\n",
    "\n",
    "That's it for now; keep in mind that Samlab Manager provides a large and growing set of visualizations and analyses for your data."
   ]
  },
  {
   "cell_type": "markdown",
   "metadata": {
    "collapsed": true
   },
   "source": [
    "## Cleanup\n",
    "\n",
    "Now, we just need to cleanup the servers we started at the beginning of this exercise.  Stop the Samlab Manager server first:"
   ]
  },
  {
   "cell_type": "code",
   "execution_count": 24,
   "metadata": {},
   "outputs": [
    {
     "name": "stderr",
     "output_type": "stream",
     "text": [
      "INFO:samlab.manager:Stopping Samlab manager.\n",
      "INFO:samlab.manager:Samlab manager stopped.\n",
      "INFO:samlab.manager:Stopping gpu task queue.\n",
      "INFO:samlab.manager:GPU task queue stopped.\n",
      "INFO:samlab.manager:Stopping generic task queue.\n",
      "INFO:samlab.manager:Generic task queue stopped.\n",
      "INFO:samlab.manager:Stopping message queue.\n",
      "INFO:samlab.manager:Message queue stopped.\n"
     ]
    }
   ],
   "source": [
    "manager.stop()"
   ]
  },
  {
   "cell_type": "markdown",
   "metadata": {
    "collapsed": true
   },
   "source": [
    "Finally, stop the temporary database server:"
   ]
  },
  {
   "cell_type": "code",
   "execution_count": 25,
   "metadata": {},
   "outputs": [
    {
     "name": "stderr",
     "output_type": "stream",
     "text": [
      "INFO:samlab.database:Stopping database server.\n",
      "INFO:samlab.database:Database server stopped.\n"
     ]
    }
   ],
   "source": [
    "db_server.stop()"
   ]
  }
 ],
 "metadata": {
  "kernelspec": {
   "display_name": "Python 3",
   "language": "python",
   "name": "python3"
  },
  "language_info": {
   "codemirror_mode": {
    "name": "ipython",
    "version": 3
   },
   "file_extension": ".py",
   "mimetype": "text/x-python",
   "name": "python",
   "nbconvert_exporter": "python",
   "pygments_lexer": "ipython3",
   "version": "3.6.7"
  }
 },
 "nbformat": 4,
 "nbformat_minor": 2
}
