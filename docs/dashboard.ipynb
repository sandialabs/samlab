{
 "cells": [
  {
   "cell_type": "code",
   "execution_count": 1,
   "id": "de6f0b57",
   "metadata": {
    "nbsphinx": "hidden"
   },
   "outputs": [
    {
     "name": "stdout",
     "output_type": "stream",
     "text": [
      "http://127.0.0.1:4000\n"
     ]
    }
   ],
   "source": [
    "import os\n",
    "import time\n",
    "\n",
    "import samlab.dashboard\n",
    "\n",
    "from selenium.webdriver import Firefox\n",
    "from selenium.webdriver.common.by import By\n",
    "from selenium.webdriver.firefox.options import Options\n",
    "from selenium.webdriver.support.ui import WebDriverWait as Wait\n",
    "from selenium.webdriver.support.expected_conditions import presence_of_element_located as element_located\n",
    "\n",
    "dashboard = samlab.dashboard.Server(config=False, quiet=True)\n",
    "dashboard.ready(timeout=10)\n",
    "\n",
    "\n",
    "options = Options()\n",
    "options.headless = True\n",
    "options.add_argument(\"--width=1024\")\n",
    "options.add_argument(\"--height=768\")\n",
    "\n",
    "browser = Firefox(options=options)\n",
    "browser.get(dashboard.uri)\n",
    "Wait(browser, timeout=10).until(element_located((By.ID, \"samlab-notify-container\")))\n",
    "\n",
    "os.makedirs(\"dashboard\", exist_ok=True)\n",
    "\n",
    "print(dashboard.uri)"
   ]
  },
  {
   "cell_type": "raw",
   "id": "dfff6f76",
   "metadata": {
    "raw_mimetype": "text/restructuredtext"
   },
   "source": [
    ".. image:: ../artwork/samlab.png\n",
    "    :width: 300px\n",
    "    :align: right\n",
    "    \n",
    "\n",
    ".. _dashboard:\n",
    "\n",
    "Dashboard\n",
    "=========\n",
    "\n",
    "The Samlab Dashboard is a lightweight web server that provides an interactive user interface for annotating images, monitoring experiments, and analyzing results.  It can be setup as a centralized service for collaborating among team members, or simply run at the command line to view local results.\n",
    "\n",
    "For these experiments, we'll start by running the server at the command line:"
   ]
  },
  {
   "cell_type": "markdown",
   "id": "e690603b",
   "metadata": {},
   "source": [
    "`$ samlab-dashboard`"
   ]
  },
  {
   "cell_type": "markdown",
   "id": "0bb4facd",
   "metadata": {},
   "source": [
    "The server will start, and automatically display the dashboard interface in a web browser:"
   ]
  },
  {
   "cell_type": "code",
   "execution_count": 2,
   "id": "4ce55006",
   "metadata": {
    "nbsphinx": "hidden",
    "scrolled": false
   },
   "outputs": [],
   "source": [
    "time.sleep(1.0)\n",
    "browser.save_screenshot(os.path.join(os.getcwd(), \"dashboard/welcome.png\"))\n",
    "time.sleep(1.0)"
   ]
  },
  {
   "cell_type": "markdown",
   "id": "909af591",
   "metadata": {},
   "source": [
    "<img class=\"browser\" src=\"dashboard/welcome.png\">"
   ]
  },
  {
   "cell_type": "code",
   "execution_count": 3,
   "id": "f5595a63",
   "metadata": {
    "nbsphinx": "hidden"
   },
   "outputs": [],
   "source": [
    "browser.find_element_by_xpath('//button[normalize-space()=\"Operations\"]').click()\n",
    "time.sleep(1.0)\n",
    "browser.save_screenshot(os.path.join(os.getcwd(), \"dashboard/operations.png\"))\n",
    "time.sleep(1.0)\n",
    "\n",
    "browser.find_element_by_xpath('//button[normalize-space()=\"Operations\"]').click()\n",
    "browser.find_element_by_xpath('//button[normalize-space()=\"Datasets\"]').click()\n",
    "time.sleep(1.0)\n",
    "browser.save_screenshot(os.path.join(os.getcwd(), \"dashboard/empty-datasets.png\"))\n",
    "time.sleep(1.0)\n",
    "\n",
    "browser.find_element_by_xpath('//button[normalize-space()=\"Datasets\"]').click()\n",
    "browser.find_element_by_xpath('//button[normalize-space()=\"Favorites\"]').click()\n",
    "time.sleep(1.0)\n",
    "browser.save_screenshot(os.path.join(os.getcwd(), \"dashboard/empty-favorites.png\"))\n",
    "time.sleep(1.0)\n",
    "\n",
    "browser.find_element_by_xpath('//button[normalize-space()=\"Favorites\"]').click()"
   ]
  },
  {
   "cell_type": "markdown",
   "id": "fc5629d7",
   "metadata": {},
   "source": [
    "Let's examine the menus from right-to-left.  The Operations menu provides a set of generic commands for managing the dashboard layout, information lists, and displaying acknowlegements:\n",
    "\n",
    "<img class=\"browser\" src=\"dashboard/operations.png\">\n",
    "\n",
    "The Datasets menu lists all of the data sources that have been registered with the server. Since we haven't registered any yet, the menu is empty: \n",
    "\n",
    "<img class=\"browser\" src=\"dashboard/empty-datasets.png\">\n",
    "\n",
    "The Favorites menu lists dashboard layouts that have been favorited for later recall or sharing with collaborators.  Once again, the list is empty, since we haven't favorited anything yet:\n",
    "\n",
    "<img class=\"browser\" src=\"dashboard/empty-favorites.png\">"
   ]
  },
  {
   "cell_type": "code",
   "execution_count": 4,
   "id": "a5efdecd",
   "metadata": {
    "nbsphinx": "hidden",
    "scrolled": false
   },
   "outputs": [],
   "source": [
    "browser.close()\n",
    "dashboard.stop()"
   ]
  }
 ],
 "metadata": {
  "celltoolbar": "Edit Metadata",
  "kernelspec": {
   "display_name": "Python 3 (ipykernel)",
   "language": "python",
   "name": "python3"
  },
  "language_info": {
   "codemirror_mode": {
    "name": "ipython",
    "version": 3
   },
   "file_extension": ".py",
   "mimetype": "text/x-python",
   "name": "python",
   "nbconvert_exporter": "python",
   "pygments_lexer": "ipython3",
   "version": "3.8.2"
  }
 },
 "nbformat": 4,
 "nbformat_minor": 5
}
