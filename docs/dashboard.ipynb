{
 "cells": [
  {
   "cell_type": "code",
   "execution_count": 1,
   "id": "960ad7fd",
   "metadata": {
    "nbsphinx": "hidden"
   },
   "outputs": [
    {
     "name": "stdout",
     "output_type": "stream",
     "text": [
      "http://127.0.0.1:64417\n"
     ]
    }
   ],
   "source": [
    "import os\n",
    "import time\n",
    "\n",
    "import samlab.dashboard\n",
    "\n",
    "from selenium.webdriver import ActionChains, Firefox\n",
    "from selenium.webdriver.common.by import By\n",
    "from selenium.webdriver.firefox.options import Options\n",
    "from selenium.webdriver.support.ui import WebDriverWait as Wait\n",
    "from selenium.webdriver.support.expected_conditions import presence_of_element_located as element_located\n",
    "\n",
    "dashboard = samlab.dashboard.Server(config=False, quiet=True)\n",
    "dashboard.ready(timeout=10)\n",
    "print(dashboard.uri)\n",
    "\n",
    "options = Options()\n",
    "#options.headless = True\n",
    "options.add_argument(\"--width=1024\")\n",
    "options.add_argument(\"--height=768\")\n",
    "\n",
    "browser = Firefox(options=options)\n",
    "actions = ActionChains(browser)\n",
    "\n",
    "os.makedirs(\"dashboard\", exist_ok=True)"
   ]
  },
  {
   "cell_type": "code",
   "execution_count": 2,
   "id": "e0499e74",
   "metadata": {
    "nbsphinx": "hidden"
   },
   "outputs": [],
   "source": [
    "def screenshot(path, delay=0.5):\n",
    "    path = os.path.join(os.getcwd(), \"dashboard\", path)\n",
    "    print(f\"Saving screenshot {path}\")\n",
    "    time.sleep(delay)\n",
    "    browser.save_screenshot(os.path.join(os.getcwd(), path))\n",
    "    time.sleep(delay)\n",
    "\n",
    "\n",
    "def toggle_datasets_menu():\n",
    "    browser.find_element_by_css_selector(\"#samlab-dashboard-datasets-menu button\").click()\n",
    "\n",
    "\n",
    "def toggle_favorites_menu():\n",
    "    browser.find_element_by_css_selector(\"#samlab-dashboard-favorites-menu button\").click()\n",
    "\n",
    "    \n",
    "def toggle_operations_menu():\n",
    "    browser.find_element_by_css_selector(\"#samlab-dashboard-operations-menu button\").click()\n",
    "    \n",
    "    \n",
    "def widgets(*, component=None, title=None, xpath=None):\n",
    "    elements = browser.find_elements_by_xpath(\"//div[contains(concat(' ',normalize-space(@class),' '),' grid-stack-item ')]\")\n",
    "    \n",
    "    if component is not None:\n",
    "        elements = [element for element in elements if element.find_elements_by_xpath(f\".[contains(concat(' ',normalize-space(@class),' '), ' {component} ')]\")]\n",
    "    \n",
    "    if title is not None:\n",
    "        elements = [element for element in elements if element.find_elements_by_xpath(f\"//h1[text()='{title}']\")]\n",
    "    \n",
    "    if xpath is not None:\n",
    "        elements = [element for element in elements if element.find_elements_by_xpath(xpath)]\n",
    "\n",
    "    return elements\n",
    "                    \n",
    "\n",
    "def widget(*, component=None, title=None, xpath=None):\n",
    "    elements = widgets(component=component, title=title, xpath=xpath)\n",
    "                    \n",
    "    if not elements:\n",
    "        raise ValueError(\"No matching widget.\")\n",
    "    if len(elements) > 1:\n",
    "        raise ValueError(\"More than one matching widget.\")\n",
    "        \n",
    "    return elements[0]"
   ]
  },
  {
   "cell_type": "code",
   "execution_count": 3,
   "id": "3b6dee07",
   "metadata": {
    "nbsphinx": "hidden"
   },
   "outputs": [
    {
     "name": "stdout",
     "output_type": "stream",
     "text": [
      "Saving screenshot /Users/tshead/src/samlab/docs/dashboard/welcome.png\n"
     ]
    }
   ],
   "source": [
    "# Default home page.\n",
    "browser.get(dashboard.uri)\n",
    "Wait(browser, timeout=10).until(element_located((By.ID, \"samlab-dashboard-favorites-menu\")))\n",
    "screenshot(\"welcome.png\")"
   ]
  },
  {
   "cell_type": "code",
   "execution_count": 4,
   "id": "ef65861e",
   "metadata": {
    "nbsphinx": "hidden"
   },
   "outputs": [
    {
     "name": "stdout",
     "output_type": "stream",
     "text": [
      "Saving screenshot /Users/tshead/src/samlab/docs/dashboard/empty-favorites-menu.png\n",
      "Saving screenshot /Users/tshead/src/samlab/docs/dashboard/empty-datasets-menu.png\n",
      "Saving screenshot /Users/tshead/src/samlab/docs/dashboard/operations-menu.png\n"
     ]
    }
   ],
   "source": [
    "# Show the favorites menu.\n",
    "toggle_favorites_menu()\n",
    "screenshot(\"empty-favorites-menu.png\")\n",
    "toggle_favorites_menu()\n",
    "\n",
    "# Show the datasets menu.\n",
    "toggle_datasets_menu()\n",
    "screenshot(\"empty-datasets-menu.png\")\n",
    "toggle_datasets_menu()\n",
    "\n",
    "# Show the operations menu.\n",
    "toggle_operations_menu()\n",
    "screenshot(\"operations-menu.png\")"
   ]
  },
  {
   "cell_type": "code",
   "execution_count": 5,
   "id": "c6dee097",
   "metadata": {
    "nbsphinx": "hidden"
   },
   "outputs": [
    {
     "name": "stdout",
     "output_type": "stream",
     "text": [
      "Saving screenshot /Users/tshead/src/samlab/docs/dashboard/before-about.png\n",
      "Saving screenshot /Users/tshead/src/samlab/docs/dashboard/after-about.png\n",
      "Saving screenshot /Users/tshead/src/samlab/docs/dashboard/hover-about.png\n",
      "Saving screenshot /Users/tshead/src/samlab/docs/dashboard/before-drag.png\n"
     ]
    }
   ],
   "source": [
    "# Display the About menu item.\n",
    "element = browser.find_element_by_link_text(\"About\")\n",
    "ActionChains(browser).move_to_element(element).perform()\n",
    "#time.sleep(0.5)\n",
    "screenshot(\"before-about.png\")\n",
    "\n",
    "# Open an About widget.\n",
    "element.click()\n",
    "about_widget = widget(component=\"samlab-markup-viewer-widget\", title=\"About Samlab\")\n",
    "screenshot(\"after-about.png\")\n",
    "\n",
    "# Hover over the About widget.\n",
    "actions.move_to_element(about_widget).perform()\n",
    "screenshot(\"hover-about.png\")\n",
    "\n",
    "# Hover over the About widget drag region.\n",
    "element = about_widget.find_element_by_css_selector(\".grid-stack-item-handle\")\n",
    "actions.move_to_element(element).perform()\n",
    "screenshot(\"before-drag.png\")"
   ]
  },
  {
   "cell_type": "code",
   "execution_count": 6,
   "id": "66b6b4bf",
   "metadata": {
    "nbsphinx": "hidden"
   },
   "outputs": [],
   "source": [
    "# Drag the About widget to a new location.\n",
    "element = about_widget.find_element_by_css_selector(\".grid-stack-item-handle\")\n",
    "actions.move_to_element(about_widget).perform()\n",
    "\n",
    "# actions.drag_and_drop_by_offset(element, 500, 0).perform()\n",
    "# time.sleep(0.5)\n",
    "# screenshot(\"after-drag.png\")"
   ]
  },
  {
   "cell_type": "code",
   "execution_count": 7,
   "id": "42c1ac15",
   "metadata": {
    "nbsphinx": "hidden"
   },
   "outputs": [],
   "source": [
    "browser.quit()\n",
    "dashboard.stop()"
   ]
  },
  {
   "cell_type": "raw",
   "id": "dfff6f76",
   "metadata": {
    "raw_mimetype": "text/restructuredtext"
   },
   "source": [
    ".. image:: ../artwork/samlab.png\n",
    "    :width: 300px\n",
    "    :align: right\n",
    "    \n",
    "\n",
    ".. _dashboard:\n",
    "\n",
    "Dashboard\n",
    "=========\n",
    "\n",
    "The Samlab Dashboard is a lightweight web server that provides an interactive user interface for annotating images, monitoring experiments, and analyzing results.  It can be run simply from the command line to view local results, or setup as a centralized service for collaboration among team members."
   ]
  },
  {
   "cell_type": "markdown",
   "id": "e690603b",
   "metadata": {},
   "source": [
    "For this tutorial, let's begin by starting the server from the command line:\n",
    "\n",
    "`$ samlab-dashboard`\n",
    "\n",
    "The server will start, and automatically open the dashboard interface in a web browser:\n",
    "\n",
    "<img class=\"browser\" src=\"dashboard/welcome.png\">\n",
    "\n",
    "Let's examine the menus in order. The Favorites menu lists dashboard layouts that have been favorited for later recall or sharing with collaborators.  Since we haven't favorited anything yet, the menu is empty:\n",
    "\n",
    "<img class=\"browser\" src=\"dashboard/empty-favorites-menu.png\">\n",
    "\n",
    "The Datasets menu lists all of the data sources that have been registered with the server. Since we haven't registered any yet, it too is empty: \n",
    "\n",
    "<img class=\"browser\" src=\"dashboard/empty-datasets-menu.png\">\n",
    "\n",
    "The Operations menu provides a set of generic commands for managing the dashboard layout, information lists, and displaying acknowledgements:\n",
    "\n",
    "<img class=\"browser\" src=\"dashboard/operations-menu.png\">\n",
    "\n",
    "Let's use the latter to get some familiarity with the Samlab user interface.  Start by clicking on the *Operations > About* menu:\n",
    "\n",
    "<img class=\"browser\" src=\"dashboard/before-about.png\">\n",
    "\n",
    "This will open an *About Widget*:\n",
    "\n",
    "<img class=\"browser\" src=\"dashboard/after-about.png\">\n",
    "\n",
    "Samlab *widgets* are windows that can be moved and resized to arrange the dashboard however you like.  If you hover the mouse over a widget, you will see that it has a *close button* in the upper-right corner, and a *resize handle* in the lower-right corner:\n",
    "\n",
    "<img class=\"browser\" src=\"dashboard/hover-about.png\">\n",
    "\n",
    "To reposition a widget, hover the mouse over the *move region* near the top of the widget:\n",
    "\n",
    "<img class=\"browser\" src=\"dashboard/before-drag.png\">\n",
    "\n",
    "Then drag the widget to a new location:\n",
    "\n",
    "<img class=\"browser\" src=\"dashboard/after-drag.png\">\n",
    "\n"
   ]
  },
  {
   "cell_type": "code",
   "execution_count": null,
   "id": "651f0e1c",
   "metadata": {},
   "outputs": [],
   "source": []
  }
 ],
 "metadata": {
  "celltoolbar": "Edit Metadata",
  "kernelspec": {
   "display_name": "Python 3 (ipykernel)",
   "language": "python",
   "name": "python3"
  },
  "language_info": {
   "codemirror_mode": {
    "name": "ipython",
    "version": 3
   },
   "file_extension": ".py",
   "mimetype": "text/x-python",
   "name": "python",
   "nbconvert_exporter": "python",
   "pygments_lexer": "ipython3",
   "version": "3.8.2"
  }
 },
 "nbformat": 4,
 "nbformat_minor": 5
}
