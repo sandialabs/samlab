{
 "cells": [
  {
   "cell_type": "code",
   "execution_count": 1,
   "id": "3b12b3ea",
   "metadata": {
    "nbsphinx": "hidden"
   },
   "outputs": [
    {
     "name": "stdout",
     "output_type": "stream",
     "text": [
      "http://127.0.0.1:55397\n",
      "Saving screenshot /Users/tshead/src/samlab/docs/dashboard/before-about.png\n",
      "Saving screenshot /Users/tshead/src/samlab/docs/dashboard/after-about.png\n"
     ]
    }
   ],
   "source": [
    "import os\n",
    "import time\n",
    "\n",
    "import samlab.dashboard\n",
    "\n",
    "from selenium.webdriver import ActionChains, Firefox\n",
    "from selenium.webdriver.common.by import By\n",
    "from selenium.webdriver.firefox.options import Options\n",
    "from selenium.webdriver.support.ui import WebDriverWait as Wait\n",
    "from selenium.webdriver.support.expected_conditions import presence_of_element_located as element_located\n",
    "\n",
    "dashboard = samlab.dashboard.Server(config=False, quiet=True)\n",
    "dashboard.ready(timeout=10)\n",
    "print(dashboard.uri)\n",
    "\n",
    "options = Options()\n",
    "options.headless = True\n",
    "options.add_argument(\"--width=1024\")\n",
    "options.add_argument(\"--height=768\")\n",
    "\n",
    "browser = Firefox(options=options)\n",
    "browser.get(dashboard.uri)\n",
    "Wait(browser, timeout=10).until(element_located((By.ID, \"samlab-dashboard-favorites-menu\")))\n",
    "\n",
    "os.makedirs(\"dashboard\", exist_ok=True)\n",
    "\n",
    "\n",
    "def screenshot(path, delay=0.5):\n",
    "    path = os.path.join(os.getcwd(), \"dashboard\", path)\n",
    "    print(f\"Saving screenshot {path}\")\n",
    "    time.sleep(delay)\n",
    "    browser.save_screenshot(os.path.join(os.getcwd(), path))\n",
    "    time.sleep(delay)\n",
    "\n",
    "\n",
    "favorites_menu = browser.find_element_by_css_selector(\"#samlab-dashboard-favorites-menu\")\n",
    "datasets_menu = browser.find_element_by_css_selector(\"#samlab-dashboard-datasets-menu\")\n",
    "operations_menu = browser.find_element_by_css_selector(\"#samlab-dashboard-operations-menu\")\n",
    "\n",
    "# # Default home page.\n",
    "# screenshot(\"welcome.png\")\n",
    "\n",
    "# # Show the operations menu.\n",
    "# operations_menu.find_element_by_css_selector(\"button\").click()\n",
    "# screenshot(\"operations-menu.png\")\n",
    "# operations_menu.find_element_by_css_selector(\"button\").click()\n",
    "\n",
    "# # Show the datasets menu.\n",
    "# datasets_menu.find_element_by_css_selector(\"button\").click()\n",
    "# screenshot(\"empty-datasets-menu.png\")\n",
    "# datasets_menu.find_element_by_css_selector(\"button\").click()\n",
    "\n",
    "# # Show the favorites menu.\n",
    "# favorites_menu.find_element_by_css_selector(\"button\").click()\n",
    "# screenshot(\"empty-favorites-menu.png\")\n",
    "# favorites_menu.find_element_by_css_selector(\"button\").click()\n",
    "\n",
    "# Display the About menu item.\n",
    "operations_menu.find_element_by_css_selector(\"button\").click()\n",
    "item = browser.find_element_by_link_text(\"About\")\n",
    "ActionChains(browser).move_to_element(item).perform()\n",
    "time.sleep(0.5)\n",
    "screenshot(\"before-about.png\")\n",
    "\n",
    "# Open an About widget.\n",
    "item.click()\n",
    "screenshot(\"after-about.png\")\n",
    "\n",
    "# Hover over the About widget drag region.\n",
    "\n",
    "# Drag the About widget to a new location."
   ]
  },
  {
   "cell_type": "code",
   "execution_count": 16,
   "id": "de6f0b57",
   "metadata": {
    "nbsphinx": "hidden"
   },
   "outputs": [
    {
     "data": {
      "text/plain": [
       "<selenium.webdriver.firefox.webelement.FirefoxWebElement (session=\"7c0f9c79-28cf-8a41-a533-2baaace0c2d4\", element=\"d161de5b-0e31-6244-a247-a3d58663fe9a\")>"
      ]
     },
     "execution_count": 16,
     "metadata": {},
     "output_type": "execute_result"
    }
   ],
   "source": [
    "browser.find_element_by_xpath(\"//h1[text()='About Samlab']/ancestor::*[contains(@class, 'grid-stack-item')]\")"
   ]
  },
  {
   "cell_type": "code",
   "execution_count": null,
   "id": "cc31036e",
   "metadata": {
    "nbsphinx": "hidden"
   },
   "outputs": [],
   "source": [
    "browser.quit()\n",
    "dashboard.stop()"
   ]
  },
  {
   "cell_type": "raw",
   "id": "dfff6f76",
   "metadata": {
    "raw_mimetype": "text/restructuredtext"
   },
   "source": [
    ".. image:: ../artwork/samlab.png\n",
    "    :width: 300px\n",
    "    :align: right\n",
    "    \n",
    "\n",
    ".. _dashboard:\n",
    "\n",
    "Dashboard\n",
    "=========\n",
    "\n",
    "The Samlab Dashboard is a lightweight web server that provides an interactive user interface for annotating images, monitoring experiments, and analyzing results.  It can be run simply from the command line to view local results, or setup as a centralized service for collaboration among team members."
   ]
  },
  {
   "cell_type": "markdown",
   "id": "e690603b",
   "metadata": {},
   "source": [
    "For this tutorial, let's begin by starting the server from the command line:\n",
    "\n",
    "`$ samlab-dashboard`\n",
    "\n",
    "The server will start, and automatically open the dashboard interface in a web browser:\n",
    "\n",
    "<img class=\"browser\" src=\"dashboard/welcome.png\">\n",
    "\n",
    "Let's examine the menus from right-to-left.  The Operations menu provides a set of generic commands for managing the dashboard layout, information lists, and displaying acknowlegements:\n",
    "\n",
    "<img class=\"browser\" src=\"dashboard/operations-menu.png\">\n",
    "\n",
    "The Datasets menu lists all of the data sources that have been registered with the server. Since we haven't registered any yet, the menu is empty: \n",
    "\n",
    "<img class=\"browser\" src=\"dashboard/empty-datasets-menu.png\">\n",
    "\n",
    "The Favorites menu lists dashboard layouts that have been favorited for later recall or sharing with collaborators.  Once again, the list is empty, since we haven't favorited anything yet:\n",
    "\n",
    "<img class=\"browser\" src=\"dashboard/empty-favorites-menu.png\">\n",
    "\n",
    "Let's get some familiarity with the Samlab user interface.  Start by clicking on the *Operations > About* menu:\n",
    "\n",
    "<img class=\"browser\" src=\"dashboard/before-about.png\">\n",
    "\n",
    "This will open the *About Widget*:\n",
    "\n",
    "<img class=\"browser\" src=\"dashboard/after-about.png\">\n",
    "\n",
    "A Samlab *widget* is a window that you can move and resize to arrange the dashboard however you like.  To move a widget, click the mouse in the *move region* near the top of the widget, and drag the widget to a new location:\n"
   ]
  }
 ],
 "metadata": {
  "celltoolbar": "Edit Metadata",
  "kernelspec": {
   "display_name": "Python 3 (ipykernel)",
   "language": "python",
   "name": "python3"
  },
  "language_info": {
   "codemirror_mode": {
    "name": "ipython",
    "version": 3
   },
   "file_extension": ".py",
   "mimetype": "text/x-python",
   "name": "python",
   "nbconvert_exporter": "python",
   "pygments_lexer": "ipython3",
   "version": "3.8.2"
  }
 },
 "nbformat": 4,
 "nbformat_minor": 5
}
