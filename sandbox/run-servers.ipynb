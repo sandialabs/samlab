{
 "cells": [
  {
   "cell_type": "code",
   "execution_count": 1,
   "metadata": {},
   "outputs": [],
   "source": [
    "import logging\n",
    "\n",
    "import samlab.database\n",
    "import samlab.dashboard\n",
    "\n",
    "logging.basicConfig(level=logging.DEBUG)"
   ]
  },
  {
   "cell_type": "code",
   "execution_count": 2,
   "metadata": {},
   "outputs": [
    {
     "name": "stderr",
     "output_type": "stream",
     "text": [
      "INFO:samlab.database:Starting database server: mongod --dbpath /var/folders/yw/yx17h14s5xs8kpsy1dtf8lhm0000gn/T/tmp5azk54vs --directoryperdb --replSet samlab --bind_ip 127.0.0.1 --port 27017\n"
     ]
    }
   ],
   "source": [
    "dbserver = samlab.database.Server()"
   ]
  },
  {
   "cell_type": "code",
   "execution_count": 3,
   "metadata": {},
   "outputs": [
    {
     "name": "stderr",
     "output_type": "stream",
     "text": [
      "INFO:samlab.dashboard:Starting message queue: redis-server --bind 127.0.0.1 --save \n",
      "INFO:samlab.dashboard:Starting generic task queue: huey_consumer samlab.tasks.generic.run.queue\n",
      "INFO:samlab.dashboard:Starting Samlab server: samlab-dashboard --database-name samlab --database-uri mongodb://127.0.0.1:27017 --database-replicaset samlab --host 127.0.0.1 --port 4000\n"
     ]
    }
   ],
   "source": [
    "dashserver = samlab.dashboard.Server(database_uri=dbserver.uri)"
   ]
  },
  {
   "cell_type": "code",
   "execution_count": 4,
   "metadata": {},
   "outputs": [
    {
     "name": "stderr",
     "output_type": "stream",
     "text": [
      "DEBUG:urllib3.connectionpool:Starting new HTTP connection (1): 127.0.0.1:4000\n",
      "DEBUG:urllib3.connectionpool:Starting new HTTP connection (1): 127.0.0.1:4000\n",
      "DEBUG:urllib3.connectionpool:Starting new HTTP connection (1): 127.0.0.1:4000\n",
      "DEBUG:urllib3.connectionpool:http://127.0.0.1:4000 \"GET /ready HTTP/1.1\" 200 20\n"
     ]
    }
   ],
   "source": [
    "dashserver.open_browser()"
   ]
  },
  {
   "cell_type": "markdown",
   "metadata": {},
   "source": [
    "## ... stop here, until you're done testing your other code ..."
   ]
  },
  {
   "cell_type": "code",
   "execution_count": 5,
   "metadata": {},
   "outputs": [
    {
     "name": "stderr",
     "output_type": "stream",
     "text": [
      "INFO:samlab.dashboard:Stopping Samlab server.\n",
      "INFO:samlab.dashboard:Samlab server stopped.\n",
      "INFO:samlab.dashboard:Stopping generic task queue.\n",
      "INFO:samlab.dashboard:Generic task queue stopped.\n",
      "INFO:samlab.dashboard:Stopping message queue.\n",
      "INFO:samlab.dashboard:Message queue stopped.\n"
     ]
    }
   ],
   "source": [
    "dashserver.stop()"
   ]
  },
  {
   "cell_type": "code",
   "execution_count": 6,
   "metadata": {},
   "outputs": [
    {
     "name": "stderr",
     "output_type": "stream",
     "text": [
      "INFO:samlab.database:Stopping database server.\n",
      "INFO:samlab.database:Database server stopped.\n"
     ]
    }
   ],
   "source": [
    "dbserver.stop()"
   ]
  }
 ],
 "metadata": {
  "kernelspec": {
   "display_name": "Python 3",
   "language": "python",
   "name": "python3"
  },
  "language_info": {
   "codemirror_mode": {
    "name": "ipython",
    "version": 3
   },
   "file_extension": ".py",
   "mimetype": "text/x-python",
   "name": "python",
   "nbconvert_exporter": "python",
   "pygments_lexer": "ipython3",
   "version": "3.6.8"
  }
 },
 "nbformat": 4,
 "nbformat_minor": 2
}
