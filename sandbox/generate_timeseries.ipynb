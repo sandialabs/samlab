{
 "cells": [
  {
   "cell_type": "code",
   "execution_count": 3,
   "metadata": {},
   "outputs": [],
   "source": [
    "import logging\n",
    "import threading\n",
    "import time\n",
    "\n",
    "import numpy\n",
    "\n",
    "import samlab.interactive\n",
    "import samlab.timeseries\n",
    "\n",
    "logging.basicConfig(level=logging.DEBUG)"
   ]
  },
  {
   "cell_type": "code",
   "execution_count": 26,
   "metadata": {},
   "outputs": [],
   "source": [
    "stop = samlab.interactive.Stop()\n",
    "\n",
    "def random_walk(key, count, mean, variance, period, writer):\n",
    "    for i in range(count):\n",
    "        if stop.triggered:\n",
    "            break\n",
    "        writer.add_scalar(key, i, numpy.random.normal(mean, variance))\n",
    "        time.sleep(period)\n",
    "\n",
    "with samlab.timeseries.Writer(\"samlab\") as writer:\n",
    "    stop = samlab.interactive.Stop()\n",
    "    \n",
    "    threads = []\n",
    "    threads.append(threading.Thread(target=random_walk, args=(\"foo/reward\", 60, 0, 0.1, 0.5, writer)))\n",
    "    threads.append(threading.Thread(target=random_walk, args=(\"bar/reward\", 60, 0, 0.1, 0.5, writer)))\n",
    "\n",
    "    for thread in threads:\n",
    "        thread.start()\n",
    "        \n",
    "    for thread in threads:\n",
    "        thread.join()"
   ]
  },
  {
   "cell_type": "code",
   "execution_count": 5,
   "metadata": {},
   "outputs": [],
   "source": [
    "import samlab.database\n",
    "db, fs = samlab.database.connect()"
   ]
  },
  {
   "cell_type": "code",
   "execution_count": 20,
   "metadata": {},
   "outputs": [
    {
     "data": {
      "text/plain": [
       "[{'_id': {'key': 'samlab/bar/reward', 'series': '2019-10-10T23-32-57'}},\n",
       " {'_id': {'key': 'samlab/bar/reward', 'series': '2019-10-10T23-36-22'}},\n",
       " {'_id': {'key': 'samlab/foo/reward', 'series': '2019-10-10T23-32-57'}},\n",
       " {'_id': {'key': 'samlab/foo/reward', 'series': '2019-10-10T23-36-22'}}]"
      ]
     },
     "execution_count": 20,
     "metadata": {},
     "output_type": "execute_result"
    }
   ],
   "source": [
    "keys_series = list(db.timeseries.aggregate([{\"$group\": {\"_id\": {\"key\": \"$key\", \"series\": \"$series\"}}}, {\"$sort\":{\"_id\": 1}}]))\n",
    "keys_series"
   ]
  },
  {
   "cell_type": "code",
   "execution_count": 21,
   "metadata": {},
   "outputs": [
    {
     "data": {
      "text/plain": [
       "defaultdict(list,\n",
       "            {'samlab/bar/reward': ['2019-10-10T23-32-57',\n",
       "              '2019-10-10T23-36-22'],\n",
       "             'samlab/foo/reward': ['2019-10-10T23-32-57',\n",
       "              '2019-10-10T23-36-22']})"
      ]
     },
     "execution_count": 21,
     "metadata": {},
     "output_type": "execute_result"
    }
   ],
   "source": [
    "import collections\n",
    "keys = collections.defaultdict(list)\n",
    "for item in keys_series:\n",
    "    keys[item[\"_id\"][\"key\"]].append(item[\"_id\"][\"series\"])\n",
    "keys"
   ]
  },
  {
   "cell_type": "code",
   "execution_count": 24,
   "metadata": {},
   "outputs": [
    {
     "data": {
      "text/plain": [
       "[{'key': 'samlab/bar/reward',\n",
       "  'series': ['2019-10-10T23-32-57', '2019-10-10T23-36-22']},\n",
       " {'key': 'samlab/foo/reward',\n",
       "  'series': ['2019-10-10T23-32-57', '2019-10-10T23-36-22']}]"
      ]
     },
     "execution_count": 24,
     "metadata": {},
     "output_type": "execute_result"
    }
   ],
   "source": [
    "results = []\n",
    "for key, series in keys.items():\n",
    "    results.append({\"key\": key, \"series\": series})\n",
    "results"
   ]
  },
  {
   "cell_type": "code",
   "execution_count": 7,
   "metadata": {},
   "outputs": [
    {
     "data": {
      "text/plain": [
       "['samlab/bar/reward', 'samlab/foo/reward']"
      ]
     },
     "execution_count": 7,
     "metadata": {},
     "output_type": "execute_result"
    }
   ],
   "source": [
    "sorted(db.timeseries.distinct(\"key\"))"
   ]
  },
  {
   "cell_type": "code",
   "execution_count": null,
   "metadata": {},
   "outputs": [],
   "source": []
  }
 ],
 "metadata": {
  "kernelspec": {
   "display_name": "Python 3",
   "language": "python",
   "name": "python3"
  }
 },
 "nbformat": 4,
 "nbformat_minor": 2
}
