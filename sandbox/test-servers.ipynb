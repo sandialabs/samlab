{
 "cells": [
  {
   "cell_type": "code",
   "execution_count": 1,
   "metadata": {},
   "outputs": [],
   "source": [
    "import logging\n",
    "logging.basicConfig(level=logging.DEBUG)\n",
    "\n",
    "import samlab.database\n",
    "import samlab.manager"
   ]
  },
  {
   "cell_type": "code",
   "execution_count": 2,
   "metadata": {},
   "outputs": [
    {
     "name": "stderr",
     "output_type": "stream",
     "text": [
      "INFO:samlab.database:Starting database server: mongod --dbpath /var/folders/tl/h2xygzzn1154jzjn_n01x860001l4n/T/tmpjbmn20_9 --directoryperdb --bind_ip 127.0.0.1 --port 52170\n"
     ]
    }
   ],
   "source": [
    "database = samlab.database.Server()"
   ]
  },
  {
   "cell_type": "code",
   "execution_count": 3,
   "metadata": {},
   "outputs": [
    {
     "name": "stderr",
     "output_type": "stream",
     "text": [
      "INFO:samlab.manager:Starting samlab-manager server: samlab-manager --database example --database-uri mongodb://127.0.0.1:52170 --host 127.0.0.1 --port 52171\n"
     ]
    }
   ],
   "source": [
    "manager = samlab.manager.Server(database=\"example\", uri=database.uri)"
   ]
  },
  {
   "cell_type": "code",
   "execution_count": 4,
   "metadata": {},
   "outputs": [
    {
     "name": "stderr",
     "output_type": "stream",
     "text": [
      "DEBUG:urllib3.connectionpool:Starting new HTTP connection (1): 127.0.0.1\n",
      "DEBUG:urllib3.connectionpool:Starting new HTTP connection (1): 127.0.0.1\n",
      "DEBUG:urllib3.connectionpool:Starting new HTTP connection (1): 127.0.0.1\n",
      "DEBUG:urllib3.connectionpool:Starting new HTTP connection (1): 127.0.0.1\n",
      "DEBUG:urllib3.connectionpool:Starting new HTTP connection (1): 127.0.0.1\n",
      "DEBUG:urllib3.connectionpool:Starting new HTTP connection (1): 127.0.0.1\n",
      "DEBUG:urllib3.connectionpool:Starting new HTTP connection (1): 127.0.0.1\n",
      "DEBUG:urllib3.connectionpool:http://127.0.0.1:52171 \"GET /ready HTTP/1.1\" 200 20\n"
     ]
    }
   ],
   "source": [
    "manager.open_browser()"
   ]
  },
  {
   "cell_type": "code",
   "execution_count": 5,
   "metadata": {},
   "outputs": [
    {
     "name": "stderr",
     "output_type": "stream",
     "text": [
      "INFO:samlab.manager:Stopping samlab-manager server.\n",
      "INFO:samlab.manager:samlab-manager server stopped.\n"
     ]
    }
   ],
   "source": [
    "manager.stop()"
   ]
  },
  {
   "cell_type": "code",
   "execution_count": 6,
   "metadata": {},
   "outputs": [
    {
     "name": "stderr",
     "output_type": "stream",
     "text": [
      "INFO:samlab.database:Stopping database server.\n",
      "INFO:samlab.database:Database server stopped.\n"
     ]
    }
   ],
   "source": [
    "database.stop()"
   ]
  },
  {
   "cell_type": "code",
   "execution_count": null,
   "metadata": {},
   "outputs": [],
   "source": []
  }
 ],
 "metadata": {
  "kernelspec": {
   "display_name": "Python 3",
   "language": "python",
   "name": "python3"
  },
  "language_info": {
   "codemirror_mode": {
    "name": "ipython",
    "version": 3
   },
   "file_extension": ".py",
   "mimetype": "text/x-python",
   "name": "python",
   "nbconvert_exporter": "python",
   "pygments_lexer": "ipython3",
   "version": "3.6.3"
  }
 },
 "nbformat": 4,
 "nbformat_minor": 2
}
